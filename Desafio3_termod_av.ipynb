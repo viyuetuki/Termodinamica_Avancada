{
 "cells": [
  {
   "cell_type": "markdown",
   "id": "e3a2e070-bd21-4b0f-a057-6b42f5cb4cfc",
   "metadata": {},
   "source": [
    "<center><img src=\"logo_ilum_2023.png\" style=\"width:1000px;height:200px\"/></center>"
   ]
  },
  {
   "cell_type": "markdown",
   "id": "b4d02485-0c00-433b-b39e-eec0e1c5ce09",
   "metadata": {},
   "source": [
    "# 🥼 Caderno de experimentos de Termodinâmica Avançada "
   ]
  },
  {
   "cell_type": "markdown",
   "id": "111c2c61-aa9e-4303-ac7b-9db099904f52",
   "metadata": {},
   "source": [
    "## 🔥 Desafio 3"
   ]
  },
  {
   "cell_type": "markdown",
   "id": "33abb504-cf65-48cd-af90-46f2bc25f1ad",
   "metadata": {},
   "source": [
    "**Objetivo**: Realizar a combustão do composto escolhido"
   ]
  },
  {
   "cell_type": "markdown",
   "id": "74a08378-82fa-47a6-b3e0-4394555a3fcf",
   "metadata": {},
   "source": [
    "-----\n"
   ]
  },
  {
   "cell_type": "markdown",
   "id": "b1198878-e873-4612-93f3-b8be5a0d5945",
   "metadata": {},
   "source": [
    "_Aspectos importantes a serem considerados:_\n",
    "\n",
    ">Os potenciais termodinâmicos (energia interna, entalpia, energia livre de Gibbs) envolvidos na reação de combustão.\n",
    "\n",
    "> A entropia envolvida na reação de combustão.\n",
    "\n",
    ">A equação de estado a ser usada para o sistema."
   ]
  },
  {
   "cell_type": "markdown",
   "id": "2eb21f07-9126-4741-a3b0-4c5aab5b4dd2",
   "metadata": {},
   "source": [
    "------"
   ]
  },
  {
   "cell_type": "code",
   "execution_count": 6,
   "id": "2ddbe698-dc1c-41f0-a9a3-f9a490094e7f",
   "metadata": {},
   "outputs": [],
   "source": [
    "#equação de estado"
   ]
  },
  {
   "cell_type": "code",
   "execution_count": 3,
   "id": "74193e3c-1d91-477c-bcfc-b9587ba9b390",
   "metadata": {},
   "outputs": [],
   "source": [
    "#energia interna"
   ]
  },
  {
   "cell_type": "code",
   "execution_count": 4,
   "id": "ef56d164-0e5d-4889-aa0a-e661ffb8beb7",
   "metadata": {},
   "outputs": [],
   "source": [
    "#entalpia"
   ]
  },
  {
   "cell_type": "code",
   "execution_count": 5,
   "id": "97265a48-016e-4753-9c5f-8f3baab231bd",
   "metadata": {},
   "outputs": [],
   "source": [
    "#Entropia de combustão"
   ]
  },
  {
   "cell_type": "code",
   "execution_count": 7,
   "id": "9947ca0f-39d6-4404-9e94-4e65bbff5c77",
   "metadata": {},
   "outputs": [],
   "source": [
    "#energia de gibbs"
   ]
  },
  {
   "cell_type": "code",
   "execution_count": null,
   "id": "6aecacc5-d0a5-47f0-80e3-717c32fbb949",
   "metadata": {},
   "outputs": [],
   "source": []
  },
  {
   "cell_type": "code",
   "execution_count": null,
   "id": "538bbe0d-2f0b-45c9-9b7d-e0cf12ee6c5a",
   "metadata": {},
   "outputs": [],
   "source": []
  },
  {
   "cell_type": "markdown",
   "id": "067d78a0-b01d-425d-94d0-ab185e6de8b0",
   "metadata": {},
   "source": [
    "### Referências:"
   ]
  },
  {
   "cell_type": "code",
   "execution_count": null,
   "id": "480bdabd-ab7b-4ffd-a413-fae1451e238b",
   "metadata": {},
   "outputs": [],
   "source": []
  }
 ],
 "metadata": {
  "kernelspec": {
   "display_name": "ilumpy",
   "language": "python",
   "name": "ilumpy"
  },
  "language_info": {
   "codemirror_mode": {
    "name": "ipython",
    "version": 3
   },
   "file_extension": ".py",
   "mimetype": "text/x-python",
   "name": "python",
   "nbconvert_exporter": "python",
   "pygments_lexer": "ipython3",
   "version": "3.9.7"
  }
 },
 "nbformat": 4,
 "nbformat_minor": 5
}
