{
 "cells": [
  {
   "cell_type": "markdown",
   "id": "e3a2e070-bd21-4b0f-a057-6b42f5cb4cfc",
   "metadata": {},
   "source": [
    "<center><img src=\"logo_ilum_2023.png\" style=\"width:1000px;height:200px\"/></center>"
   ]
  },
  {
   "cell_type": "markdown",
   "id": "b4d02485-0c00-433b-b39e-eec0e1c5ce09",
   "metadata": {},
   "source": [
    "# 🥼 Caderno de experimentos de Termodinâmica Avançada "
   ]
  },
  {
   "cell_type": "markdown",
   "id": "111c2c61-aa9e-4303-ac7b-9db099904f52",
   "metadata": {},
   "source": [
    "## 🔥 Desafio 3"
   ]
  },
  {
   "cell_type": "markdown",
   "id": "33abb504-cf65-48cd-af90-46f2bc25f1ad",
   "metadata": {},
   "source": [
    "**Objetivo**: Realizar a combustão do composto escolhido"
   ]
  },
  {
   "cell_type": "markdown",
   "id": "74a08378-82fa-47a6-b3e0-4394555a3fcf",
   "metadata": {},
   "source": [
    "-----\n"
   ]
  },
  {
   "cell_type": "markdown",
   "id": "b1198878-e873-4612-93f3-b8be5a0d5945",
   "metadata": {},
   "source": [
    "_Aspectos importantes a serem considerados:_\n",
    "\n",
    ">Os potenciais termodinâmicos (energia interna, entalpia, energia livre de Gibbs) envolvidos na reação de combustão.\n",
    "\n",
    "> A entropia envolvida na reação de combustão.\n",
    "\n",
    ">A equação de estado a ser usada para o sistema."
   ]
  },
  {
   "cell_type": "markdown",
   "id": "2eb21f07-9126-4741-a3b0-4c5aab5b4dd2",
   "metadata": {},
   "source": [
    "------"
   ]
  },
  {
   "cell_type": "markdown",
   "id": "94b1a026-07bf-4ef0-9c65-d7a70c182189",
   "metadata": {},
   "source": [
    "Após os processos realizados no desafio 2 dos nossos experimentos em termodinâmica avançada obtemos o 1-Hexeno em sua forma pura e líquida ao sair do condensador, o qual agora passará pela reação de combustão para poder entrar no ciclo rankine. A reação de combustão corresponde a oxidação total de uma substância para geração de energia para um sistema, além disso essa reação gera também como produto água e gás carbônico. Ademais, é válido ressaltar que essa é reação é do tipo exotérmica, ou seja, a variação de entalpia da reação deve resultar em um número positivo, tendo, enfim, a liberação de energia."
   ]
  },
  {
   "cell_type": "markdown",
   "id": "455849cc-c4b5-4f38-a5d7-8137b4093c1c",
   "metadata": {},
   "source": [
    "A reação de combustão em que iremos realizar no experimento, como dito anteriormente, é a do 1-Hexeno que pode ser vista abaixo (considerando o 1-Hexeno no estado líquido):"
   ]
  },
  {
   "cell_type": "markdown",
   "id": "1acf7e1b-cb00-4ee8-8a66-63b496786678",
   "metadata": {},
   "source": [
    "$ C_6H_12 + 9 \\: O_2 → 6 \\: H_2O + 6\\: CO_2 $"
   ]
  },
  {
   "cell_type": "code",
   "execution_count": 9,
   "id": "2ddbe698-dc1c-41f0-a9a3-f9a490094e7f",
   "metadata": {},
   "outputs": [],
   "source": [
    "#entalpia"
   ]
  },
  {
   "cell_type": "markdown",
   "id": "0e063878-69d5-456e-8215-7b4faad15820",
   "metadata": {},
   "source": [
    "#### Entropia de combustão"
   ]
  },
  {
   "cell_type": "markdown",
   "id": "82b7fd2f-1210-4ff2-85aa-6bf749f74d38",
   "metadata": {},
   "source": [
    "Para dar sequência ao experimento é necessário, enfim, calcular a entropia de combustão, ao ter conhecimento do seu valor poderemos compreender as propriedades termodinâmicas da reação permitindo possíveis estudos para otimização dos processos relacionados a esse tipo de reação. Esse cálculo será realizado com valores de entropia encontradas em tabelas do site nist, citado nas referências do experimento."
   ]
  },
  {
   "cell_type": "code",
   "execution_count": 16,
   "id": "059c4219-2140-4091-8c57-9272004b81bb",
   "metadata": {},
   "outputs": [],
   "source": [
    "S_hex = 295.2  #Entropia do 1-Hexeno líquido\n",
    "S_O2 =  205 #Entropia do oxigênio\n",
    "S_H2O = 6.6 #Entropia da água\n",
    "S_CO2 = 120.4 #Entropia do gás carbônico"
   ]
  },
  {
   "cell_type": "markdown",
   "id": "c0744d94-f658-4e95-88fd-391d248fac82",
   "metadata": {},
   "source": [
    "O cálculo pode, então ser feito \n",
    "\n",
    "$ a \\: A + b \\: B → c \\: C + d \\: D $\n",
    "\n",
    "ΔS = (c*S[C] + d*S[D]) - (a*S[A] + b*S[B])"
   ]
  },
  {
   "cell_type": "markdown",
   "id": "dd441e93-3b64-4fe9-bce8-c0e88a17e3f6",
   "metadata": {},
   "source": [
    "ou seja, vamos fazer a soma das entropias dos produtos e a soma da entropia dos reagente e depois, a diferença existente entre os resultados."
   ]
  },
  {
   "cell_type": "code",
   "execution_count": 17,
   "id": "2c72090d-ab41-4a22-bebd-7b0f1183e554",
   "metadata": {},
   "outputs": [
    {
     "name": "stdout",
     "output_type": "stream",
     "text": [
      "A variação da entropia de combustão para o 1-Hexeno será de -373.2 J/mol*K\n"
     ]
    }
   ],
   "source": [
    "S_prod = S_H2O + S_CO2 #soma das entropias dos produtos\n",
    "S_reag = S_hex + S_O2 #soma das entropias dos reagentes\n",
    "\n",
    "S_combustao = S_prod - S_reag #variação da entropia\n",
    "\n",
    "print(f'A variação da entropia de combustão para o 1-Hexeno será de {S_combustao} J/mol*K')"
   ]
  },
  {
   "cell_type": "code",
   "execution_count": 3,
   "id": "74193e3c-1d91-477c-bcfc-b9587ba9b390",
   "metadata": {},
   "outputs": [],
   "source": [
    "#energia interna"
   ]
  },
  {
   "cell_type": "code",
   "execution_count": 7,
   "id": "9947ca0f-39d6-4404-9e94-4e65bbff5c77",
   "metadata": {},
   "outputs": [],
   "source": [
    "#energia de gibbs"
   ]
  },
  {
   "cell_type": "markdown",
   "id": "b0089d1f-5ddf-4d32-bafa-9d044d0abeda",
   "metadata": {},
   "source": [
    "#### Equação de estado do sistema"
   ]
  },
  {
   "cell_type": "markdown",
   "id": "067d78a0-b01d-425d-94d0-ab185e6de8b0",
   "metadata": {},
   "source": [
    "### Referências:"
   ]
  },
  {
   "cell_type": "code",
   "execution_count": null,
   "id": "480bdabd-ab7b-4ffd-a413-fae1451e238b",
   "metadata": {},
   "outputs": [],
   "source": []
  }
 ],
 "metadata": {
  "kernelspec": {
   "display_name": "ilumpy",
   "language": "python",
   "name": "ilumpy"
  },
  "language_info": {
   "codemirror_mode": {
    "name": "ipython",
    "version": 3
   },
   "file_extension": ".py",
   "mimetype": "text/x-python",
   "name": "python",
   "nbconvert_exporter": "python",
   "pygments_lexer": "ipython3",
   "version": "3.9.7"
  }
 },
 "nbformat": 4,
 "nbformat_minor": 5
}
