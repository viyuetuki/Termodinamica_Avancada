{
 "cells": [
  {
   "cell_type": "markdown",
   "id": "e3a2e070-bd21-4b0f-a057-6b42f5cb4cfc",
   "metadata": {},
   "source": [
    "<center><img src=\"logo_ilum_2023.png\" style=\"width:1000px;height:200px\"/></center>"
   ]
  },
  {
   "cell_type": "markdown",
   "id": "b4d02485-0c00-433b-b39e-eec0e1c5ce09",
   "metadata": {},
   "source": [
    "# 🥼 Caderno de experimentos de Termodinâmica Avançada "
   ]
  },
  {
   "cell_type": "markdown",
   "id": "111c2c61-aa9e-4303-ac7b-9db099904f52",
   "metadata": {},
   "source": [
    "## 🔥 Desafio 3"
   ]
  },
  {
   "cell_type": "markdown",
   "id": "33abb504-cf65-48cd-af90-46f2bc25f1ad",
   "metadata": {},
   "source": [
    "**Objetivo**: Realizar a combustão do composto escolhido"
   ]
  },
  {
   "cell_type": "markdown",
   "id": "74a08378-82fa-47a6-b3e0-4394555a3fcf",
   "metadata": {},
   "source": [
    "-----\n"
   ]
  },
  {
   "cell_type": "markdown",
   "id": "b1198878-e873-4612-93f3-b8be5a0d5945",
   "metadata": {},
   "source": [
    "_Aspectos importantes a serem considerados:_\n",
    "\n",
    ">Os potenciais termodinâmicos (energia interna, entalpia, energia livre de Gibbs) envolvidos na reação de combustão.\n",
    "\n",
    "> A entropia envolvida na reação de combustão.\n",
    "\n",
    ">A equação de estado a ser usada para o sistema."
   ]
  },
  {
   "cell_type": "markdown",
   "id": "2eb21f07-9126-4741-a3b0-4c5aab5b4dd2",
   "metadata": {},
   "source": [
    "------"
   ]
  },
  {
   "cell_type": "markdown",
   "id": "94b1a026-07bf-4ef0-9c65-d7a70c182189",
   "metadata": {},
   "source": [
    "Após os processos realizados no desafio 2 dos nossos experimentos em termodinâmica avançada obtemos o 1-Hexeno em sua forma pura e líquida ao sair do condensador, o qual agora passará pela reação de combustão para poder entrar no ciclo rankine. A reação de combustão corresponde a oxidação total de uma substância para geração de energia para um sistema, além disso essa reação gera também como produto água e gás carbônico. Ademais, é válido ressaltar que essa é reação é do tipo exotérmica, ou seja, a variação de entalpia da reação deve resultar em um número positivo, tendo, enfim, a liberação de energia."
   ]
  },
  {
   "cell_type": "markdown",
   "id": "455849cc-c4b5-4f38-a5d7-8137b4093c1c",
   "metadata": {},
   "source": [
    "A reação de combustão em que iremos realizar no experimento, como dito anteriormente, é a do 1-Hexeno que pode ser vista abaixo (considerando o 1-Hexeno no estado líquido):"
   ]
  },
  {
   "cell_type": "markdown",
   "id": "1acf7e1b-cb00-4ee8-8a66-63b496786678",
   "metadata": {},
   "source": [
    "$ C_6H_12 + 9 \\: O_2 → 6 \\: H_2O + 6\\: CO_2 $"
   ]
  },
  {
   "cell_type": "code",
   "execution_count": 9,
   "id": "2ddbe698-dc1c-41f0-a9a3-f9a490094e7f",
   "metadata": {},
   "outputs": [],
   "source": [
    "#entalpia"
   ]
  },
  {
   "cell_type": "markdown",
   "id": "0e063878-69d5-456e-8215-7b4faad15820",
   "metadata": {},
   "source": [
    "#### Entropia de combustão"
   ]
  },
  {
   "cell_type": "markdown",
   "id": "82b7fd2f-1210-4ff2-85aa-6bf749f74d38",
   "metadata": {},
   "source": [
    "Para dar sequência ao experimento é necessário, enfim, calcular a entropia de combustão, ao ter conhecimento do seu valor poderemos compreender as propriedades termodinâmicas da reação permitindo possíveis estudos para otimização dos processos relacionados a esse tipo de reação. Esse cálculo será realizado com valores de entropia encontradas em tabelas do site nist, citado nas referências do experimento."
   ]
  },
  {
   "cell_type": "code",
   "execution_count": 16,
   "id": "059c4219-2140-4091-8c57-9272004b81bb",
   "metadata": {},
   "outputs": [],
   "source": [
    "S_hex = 295.2  #Entropia do 1-Hexeno líquido\n",
    "S_O2 =  205 #Entropia do oxigênio\n",
    "S_H2O = 6.6 #Entropia da água\n",
    "S_CO2 = 120.4 #Entropia do gás carbônico"
   ]
  },
  {
   "cell_type": "markdown",
   "id": "c0744d94-f658-4e95-88fd-391d248fac82",
   "metadata": {},
   "source": [
    "O cálculo pode, então ser feito \n",
    "\n",
    "$ a \\: A + b \\: B → c \\: C + d \\: D $\n",
    "\n",
    "ΔS = (c*S[C] + d*S[D]) - (a*S[A] + b*S[B])"
   ]
  },
  {
   "cell_type": "markdown",
   "id": "dd441e93-3b64-4fe9-bce8-c0e88a17e3f6",
   "metadata": {},
   "source": [
    "ou seja, vamos fazer a soma das entropias dos produtos e a soma da entropia dos reagente e depois, a diferença existente entre os resultados."
   ]
  },
  {
   "cell_type": "code",
   "execution_count": 19,
   "id": "2c72090d-ab41-4a22-bebd-7b0f1183e554",
   "metadata": {},
   "outputs": [
    {
     "name": "stdout",
     "output_type": "stream",
     "text": [
      "A variação da entropia de combustão para o 1-Hexeno será de -373.2 J/mol K\n"
     ]
    }
   ],
   "source": [
    "S_prod = S_H2O + S_CO2 #soma das entropias dos produtos\n",
    "S_reag = S_hex + S_O2 #soma das entropias dos reagentes\n",
    "\n",
    "S_combustao = S_prod - S_reag #variação da entropia\n",
    "\n",
    "print(f'A variação da entropia de combustão para o 1-Hexeno será de {S_combustao} J/mol K')"
   ]
  },
  {
   "cell_type": "code",
   "execution_count": 3,
   "id": "74193e3c-1d91-477c-bcfc-b9587ba9b390",
   "metadata": {},
   "outputs": [],
   "source": [
    "#energia interna"
   ]
  },
  {
   "cell_type": "markdown",
   "id": "ebc1e45d-368c-4f6a-b501-3f375e617365",
   "metadata": {},
   "source": [
    "#### Energia livre de Gibbs"
   ]
  },
  {
   "cell_type": "markdown",
   "id": "4b0fbdf3-516e-46cb-909a-98a366b358f4",
   "metadata": {},
   "source": [
    "A energia livre de gibbs é mais um dos importantes potenciais termodinâmicos que estão envolvidos no experimento, ela determina a direção de um processo espontâneo para sistemas com temperatura e pressão constantes. \n",
    "\n",
    "Para mensurar esse potencial deve-se calcular ΔG = ΔH - TΔS, ou seja, a subtração da entalpia pela temperatura do sistema em kelvin multiplicada pela entropia do sistema, a qual foi obtida mais a cima no experimento. Essa equação foi obtida através da aplicação da transformada de Lejandre na equação da energia interna sistema considerando a entropia, pressão constante e volume constante.\n",
    "\n",
    "Todos os sistemas físicos tendem sempre a se mover na direção de equilíbrio, ou seja de menor energia, em que a derivada da energia de Gibbs seja nula e nesse caso, a entropia do sistema será máxima tendo uma grande multiplicidade. A depender do valor obtido ao se calcular esse potencial termodinâmico é possível saber se a reação ocorre de maneira espontânea, sua variação é negativa, ou forçada, sua variação é positiva.\n",
    "\n",
    "Agora vamos realizar o cálculo para o 1-Hexeno utilizando os valores obtidos a cima para entender como o sistema se comporta durante a combustão,"
   ]
  },
  {
   "cell_type": "code",
   "execution_count": 18,
   "id": "9270db2b-5532-4639-b378-2946fb019f58",
   "metadata": {},
   "outputs": [
    {
     "ename": "NameError",
     "evalue": "name 'entalpia_comb_hex' is not defined",
     "output_type": "error",
     "traceback": [
      "\u001b[1;31m---------------------------------------------------------------------------\u001b[0m",
      "\u001b[1;31mNameError\u001b[0m                                 Traceback (most recent call last)",
      "\u001b[1;32mC:\\Users\\BARBAR~1\\AppData\\Local\\Temp/ipykernel_26620/4140061239.py\u001b[0m in \u001b[0;36m<module>\u001b[1;34m\u001b[0m\n\u001b[1;32m----> 1\u001b[1;33m \u001b[0mGibbs_hex\u001b[0m \u001b[1;33m=\u001b[0m \u001b[0mentalpia_comb_hex\u001b[0m \u001b[1;33m-\u001b[0m \u001b[1;33m(\u001b[0m\u001b[0mT\u001b[0m\u001b[1;33m*\u001b[0m\u001b[0mS_combustao\u001b[0m\u001b[1;33m)\u001b[0m\u001b[1;33m\u001b[0m\u001b[1;33m\u001b[0m\u001b[0m\n\u001b[0m\u001b[0;32m      2\u001b[0m \u001b[1;33m\u001b[0m\u001b[0m\n\u001b[0;32m      3\u001b[0m \u001b[0mprint\u001b[0m\u001b[1;33m(\u001b[0m\u001b[1;34mf'A energia livre de Gibbs da combustão do 1-Hexeno é de {Gibbs_hex} kJ/mol'\u001b[0m\u001b[1;33m)\u001b[0m\u001b[1;33m\u001b[0m\u001b[1;33m\u001b[0m\u001b[0m\n",
      "\u001b[1;31mNameError\u001b[0m: name 'entalpia_comb_hex' is not defined"
     ]
    }
   ],
   "source": [
    "Gibbs_hex = entalpia_comb_hex - (T*S_combustao)\n",
    "\n",
    "print(f'A energia livre de Gibbs da combustão do 1-Hexeno é de {Gibbs_hex} kJ/mol')"
   ]
  },
  {
   "cell_type": "markdown",
   "id": "00cd4dca-0778-4843-9016-c33055084b9b",
   "metadata": {},
   "source": [
    "Com esse resultado, pos/neg, percebe-se então o comportamento esp/ñ esp da reação e, sendo assim, o 1-Hexeno pode ser tomado como infl/n infl."
   ]
  },
  {
   "cell_type": "markdown",
   "id": "b0089d1f-5ddf-4d32-bafa-9d044d0abeda",
   "metadata": {},
   "source": [
    "#### Equação de estado do sistema"
   ]
  },
  {
   "cell_type": "code",
   "execution_count": null,
   "id": "fa74a33f-649f-4fa9-a3ae-f7fb453db534",
   "metadata": {},
   "outputs": [],
   "source": []
  },
  {
   "cell_type": "markdown",
   "id": "067d78a0-b01d-425d-94d0-ab185e6de8b0",
   "metadata": {},
   "source": [
    "### Referências:"
   ]
  },
  {
   "cell_type": "code",
   "execution_count": null,
   "id": "480bdabd-ab7b-4ffd-a413-fae1451e238b",
   "metadata": {},
   "outputs": [],
   "source": []
  }
 ],
 "metadata": {
  "kernelspec": {
   "display_name": "ilumpy",
   "language": "python",
   "name": "ilumpy"
  },
  "language_info": {
   "codemirror_mode": {
    "name": "ipython",
    "version": 3
   },
   "file_extension": ".py",
   "mimetype": "text/x-python",
   "name": "python",
   "nbconvert_exporter": "python",
   "pygments_lexer": "ipython3",
   "version": "3.9.7"
  }
 },
 "nbformat": 4,
 "nbformat_minor": 5
}
