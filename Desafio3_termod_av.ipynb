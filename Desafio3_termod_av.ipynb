{
 "cells": [
  {
   "cell_type": "markdown",
   "id": "e3a2e070-bd21-4b0f-a057-6b42f5cb4cfc",
   "metadata": {},
   "source": [
    "<center><img src=\"logo_ilum_2023.png\" style=\"width:1000px;height:200px\"/></center>"
   ]
  },
  {
   "cell_type": "markdown",
   "id": "b4d02485-0c00-433b-b39e-eec0e1c5ce09",
   "metadata": {},
   "source": [
    "# 🥼 Caderno de experimentos de Termodinâmica Avançada "
   ]
  },
  {
   "cell_type": "markdown",
   "id": "111c2c61-aa9e-4303-ac7b-9db099904f52",
   "metadata": {},
   "source": [
    "## 🔥 Desafio 3"
   ]
  },
  {
   "cell_type": "markdown",
   "id": "33abb504-cf65-48cd-af90-46f2bc25f1ad",
   "metadata": {},
   "source": [
    "**Objetivo**: Realizar a combustão do composto escolhido."
   ]
  },
  {
   "cell_type": "markdown",
   "id": "74a08378-82fa-47a6-b3e0-4394555a3fcf",
   "metadata": {},
   "source": [
    "-----\n"
   ]
  },
  {
   "cell_type": "markdown",
   "id": "b1198878-e873-4612-93f3-b8be5a0d5945",
   "metadata": {},
   "source": [
    "_Aspectos importantes a serem considerados:_\n",
    "\n",
    ">Os potenciais termodinâmicos (energia interna, entalpia, energia livre de Gibbs) envolvidos na reação de combustão.\n",
    "\n",
    "> A entropia envolvida na reação de combustão.\n",
    "\n",
    ">A equação de estado a ser usada para o sistema."
   ]
  },
  {
   "cell_type": "markdown",
   "id": "2eb21f07-9126-4741-a3b0-4c5aab5b4dd2",
   "metadata": {},
   "source": [
    "------"
   ]
  },
  {
   "cell_type": "code",
   "execution_count": 3,
   "id": "b3694538-badc-4e86-8343-4653e79946cb",
   "metadata": {},
   "outputs": [],
   "source": [
    "# importações para o desafio\n",
    "import numpy as np\n",
    "from uncertainties import ufloat"
   ]
  },
  {
   "cell_type": "markdown",
   "id": "94b1a026-07bf-4ef0-9c65-d7a70c182189",
   "metadata": {},
   "source": [
    "<p style='text-align: justify'>Após os processos realizados no desafio 2 dos nossos experimentos em termodinâmica avançada, obtemos o 1-Hexeno em sua forma pura e líquida ao sair do condensador, o qual agora passará pela reação de combustão para poder entrar no ciclo rankine (no desafio 4). A reação de combustão corresponde à oxidação total de uma substância para geração de energia para um sistema, além disso essa reação gera também como produto água e gás carbônico. Ademais, é válido ressaltar que essa é reação é do tipo exotérmica, ou seja, a variação de entalpia da reação deve resultar em um número negativo, tendo, enfim, a liberação de energia.</p>"
   ]
  },
  {
   "cell_type": "markdown",
   "id": "455849cc-c4b5-4f38-a5d7-8137b4093c1c",
   "metadata": {},
   "source": [
    "<p style='text-align: justify'>A reação de combustão em que iremos realizar no experimento, como dito anteriormente, é a do 1-Hexeno que pode ser vista abaixo já balanceada (considerando o 1-Hexeno no estado líquido):</p>"
   ]
  },
  {
   "cell_type": "markdown",
   "id": "1acf7e1b-cb00-4ee8-8a66-63b496786678",
   "metadata": {},
   "source": [
    "<p style='text-align: center'> $ C_{6}H_{12} + 9 \\: O_{2} → 6 \\: H_{2}O + 6\\: CO_{2} $"
   ]
  },
  {
   "cell_type": "markdown",
   "id": "5bce8dbd-fd41-4b29-b011-37251e112ff2",
   "metadata": {},
   "source": [
    "#### Entalpia"
   ]
  },
  {
   "cell_type": "markdown",
   "id": "e0bad0d4-ff0b-487c-be98-a26b2f8d451a",
   "metadata": {},
   "source": [
    "<p style='text-align: justify'>Para darmos início nos cálculos do nosso experimento, vamos pensar em uma propriedade de suma importância para a medição da variação de energia na forma de calor. Pensando nas reações químicas, podemos denotar a mudança de entalpia associada a elas por $ Δ_{r}H $, que vai nos dizer se uma reação está liberando ou absorvendo energia (na forma de calor) durante seu processo e a quantidade respectiva.</p>\n",
    "<p style='text-align: justify'>No nosso caso, temos uma reação de <b>combustão</b>, o que implica em ser uma reação <b>exotérmica</b>, ou seja, que libera calor (chamado de calor de combustão) na queima do combustível.</p>\n",
    "<p style='text-align: justify'>Nos embasando em todo um estudo feito pelo livro \"Physical Chemistry: A Molecular Approach\", de McQuarrie [segunda referência], temos que:<p>"
   ]
  },
  {
   "cell_type": "markdown",
   "id": "c73cc809-0457-4560-8a83-22a4e1b62edf",
   "metadata": {},
   "source": [
    ">A variação de entalpia para uma reação química pode ser vista como a entalpia total dos produtos menos a entalpia total dos reagentes."
   ]
  },
  {
   "cell_type": "markdown",
   "id": "598c4022-75d8-4cc2-9519-57d225a9124b",
   "metadata": {},
   "source": [
    "<p style='text-align: center'>$Δ_{r}H = H_{produtos} - H_{reagentes}$"
   ]
  },
  {
   "cell_type": "markdown",
   "id": "bf23cb0e-83dd-4e4b-94dd-8313cbefcced",
   "metadata": {},
   "source": [
    ">Tendo em vista que, para reações exotérmicas (como as de combustão), em que a energia é liberada como calor, $H_{produtos} < H_{reagentes}$ , temos:"
   ]
  },
  {
   "cell_type": "markdown",
   "id": "13d50963-3585-4fa3-bb2f-6470edbd520b",
   "metadata": {},
   "source": [
    "<p style='text-align: center'>$Δ_{r}H < 0$"
   ]
  },
  {
   "cell_type": "markdown",
   "id": "1869a161-3214-4efd-b87d-6041064e9708",
   "metadata": {},
   "source": [
    ">Sabendo, também, que a entalpia se caracteriza como uma função de estado $(H = U + PV ; ΔH = ΔU + PΔV)$, a qual se recorre quando temos a condição de pressão constante (condição frequente para as reações químicas que ocorrem de forma aberta à atmosfera), temos que a propriedade de aditividade se aplica à ela. Assim, se temos duas equações químicas e as somamos, resultando em uma equação global, como se fosse um processo dividido em duas etapas, podemos simplesmente somar a entalpia de ambos, já que: "
   ]
  },
  {
   "cell_type": "markdown",
   "id": "0d2928b3-789e-432a-a59c-cf49a2d8c642",
   "metadata": {},
   "source": [
    "<p style='text-align: center'>$Δ_{r}H = Δ_{r}H(3) = Δ_{r}H(1) - Δ_{r}H(2)$"
   ]
  },
  {
   "cell_type": "markdown",
   "id": "32bf8abb-366e-4a51-98b2-ee9102e9b4d2",
   "metadata": {},
   "source": [
    ">Essa propriedade é conhecida como **Lei de Hess**. E, a partir dela, supondo, por exemplo, uma reação que de um composto obtemos dois elementos e outra inversa, que dois elementos se forma um composto, também conseguimos dizer que:"
   ]
  },
  {
   "cell_type": "markdown",
   "id": "7357fd2c-48b4-4ba0-85bb-7b0703d18fe5",
   "metadata": {},
   "source": [
    "<p style='text-align: center'>$Δ_{r}H(reversa) = -Δ_{r}H$"
   ]
  },
  {
   "cell_type": "markdown",
   "id": "802e7737-9a2d-4cae-9c5a-4218865b08cc",
   "metadata": {},
   "source": [
    "<p style='text-align: justify'>Ainda sobre entalpia de reação, temos que, seu valor depende do número de mols dos reagentes. Nesse sentido, como há diversas possibilidades que poderiam ser ditas sobre a entalpia de uma reação, há alguns modos que padronizam a entalpia. Assim:</p>"
   ]
  },
  {
   "cell_type": "markdown",
   "id": "1c4ef8e3-7efc-40f7-823a-16d808918b3b",
   "metadata": {},
   "source": [
    ">$Δ_{r}H^{0}$ : variação de entalpia associada a um mol de um reagente específico quanto todos os produtos e reagentes estão em seus estados padrão. Pensando em gas, equivaleria a um gas ideal na pressão de 1 bar em uma temperatura de interesse. (obs: medida intensiva, enquanto $Δ_{r}H$ é extensiva)\n",
    "\n",
    ">$Δ_{f}H^{0}$ : variação de entalpia que padroniza a entalpia de reação de formação de um mol de uma mólecula a partir de seus elementos constituintes, estando todos os reagente e produtos nos seus estados padrão. (medição intensiva e extremamente útil)"
   ]
  },
  {
   "cell_type": "markdown",
   "id": "ff4bd253-dfbb-42dc-9a4e-798105da6beb",
   "metadata": {},
   "source": [
    "<p style='text-align: justify'>Nesse sentido, uma variedade de subscritos podem compor a denotação de uma ampla gama de entalpia.</p>"
   ]
  },
  {
   "cell_type": "markdown",
   "id": "fb1f5a69-81e4-44e8-909a-531697bb7acd",
   "metadata": {},
   "source": [
    "<p style='text-align: justify'>De posse de toda essas informações, vamos calcular a entalpia da nossa reação de combustão de 1-Hexeno:</p>"
   ]
  },
  {
   "cell_type": "markdown",
   "id": "648465c2-d994-4fd4-b83c-2cb519c7c766",
   "metadata": {},
   "source": [
    "<p style='text-align: center'> $ C_{6}H_{12}(l) + 9 \\: O_{2}(g) → 6 \\: H_{2}O(l) + 6\\: CO_{2}(g) $"
   ]
  },
  {
   "cell_type": "markdown",
   "id": "cb28ba5c-5537-4161-9491-9b5f278091f4",
   "metadata": {},
   "source": [
    "<p style='text-align: justify'>Tendo conhecimento da propriedade de aditividade da entalpia (lei de Hess) e da utilidade das energias de formação ($Δ_{f}H^{0}$), podemos pensar da seguinte forma:</p>\n",
    "\n",
    "<ul>\n",
    "    <li>Sendo uma equação química qualquer, em que a, b, y, e z são respectivos números de mols:\n",
    "</ul>\n",
    "    \n",
    "<p style='text-align: center'> $ a \\: A + b \\: B → y \\: Y + z \\: Z $</p>\n",
    "\n",
    "<ul>    \n",
    "    <li>Podemos calcular $Δ_{r}H$ em duas etapas: (1) Decompomos A e B em seus elementos contituintes; (2) Combinamos os elementos para formar os compostos Y e Z. Assim:\n",
    "</ul>\n",
    "\n",
    "<p style='text-align: center'>$Δ_{r}H(1) = -aΔ_{f}H^{0}[A] - bΔ_{f}H^{0}[B]$</p>\n",
    "    \n",
    "<p style='text-align: center'>$Δ_{r}H(2) = yΔ_{f}H^{0}[Y] + zΔ_{f}H^{0}[Z]$</p>\n",
    "\n",
    "<ul>    \n",
    "    <li>Para a equação geral (lembrando que aqui é necessário que especifiquemos o estado físico de cada substância, por conta da entalpia de formação), temos então:\n",
    "</ul>\n",
    "\n",
    "<p style='text-align: center'>$Δ_{r}H =yΔ_{f}H^{0}[Y]+zΔ_{f}H^{0}[Z]-aΔ_{f}H^{0}[A]- bΔ_{f}H^{0}[B] $</p>\n",
    "\n",
    "<ul>    \n",
    "    <li>O que nos leva a:\n",
    "</ul>\n",
    "\n",
    "<p style='text-align: center'>$Δ_{r}H = H_{produtos} - H_{reagentes}$</p>"
   ]
  },
  {
   "cell_type": "markdown",
   "id": "87505cdd-7696-4ed7-9e57-c4fec7172368",
   "metadata": {},
   "source": [
    "<p style='text-align: justify'>Aplicando para o nosso experimento:</p>"
   ]
  },
  {
   "cell_type": "code",
   "execution_count": 5,
   "id": "d46940da-01b1-4e69-b47d-2f3c5c69920c",
   "metadata": {},
   "outputs": [],
   "source": [
    "# definindo as energias de formação, coletadas do bando de dados NIST\n",
    "delta_f_H_0_1_hexeno = ufloat(-73, 3) # kJ/mol\n",
    "delta_f_H_0_O2 = 0 # pelo o O2 estar na sua forma padrão pura, sua energia de formação é 0\n",
    "delta_f_H_0_H2O = ufloat(-285.83, 0.04) # kJ/mol\n",
    "delta_f_H_0_CO2 = ufloat(-393.51, 0.13) # kJ/mol"
   ]
  },
  {
   "cell_type": "code",
   "execution_count": 7,
   "id": "80581827-2b4c-4c5b-ade5-6974746a87dd",
   "metadata": {},
   "outputs": [
    {
     "name": "stdout",
     "output_type": "stream",
     "text": [
      "A entalpia de combustão do 1-Hexeno (partindo da sua forma líquida) é -4003.0+/-3.1 kJ/mol\n"
     ]
    }
   ],
   "source": [
    "# Para 1 mol de 1-Hexeno:\n",
    "entalpia_produtos = 6 * delta_f_H_0_H2O + 6 * delta_f_H_0_CO2\n",
    "entalpia_reagentes = 1 * delta_f_H_0_1_hexeno + 9 * delta_f_H_0_O2\n",
    "entalpia_combustao_1_hexene = entalpia_produtos - entalpia_reagentes\n",
    "\n",
    "print(f'A entalpia de combustão do 1-Hexeno (partindo da sua forma líquida) é {entalpia_combustao_1_hexene} kJ/mol')"
   ]
  },
  {
   "cell_type": "markdown",
   "id": "1ed09a23-234c-40b9-accf-f36580e93de0",
   "metadata": {},
   "source": [
    "<p style='text-align: justify'><b>Com isso, para que a reação de combustão de 1-mol de 1-Hexeno possa ocorrer para se entrar no ciclo de Rankine, é necessário que seja fornecido, aproximadamente, 4003 kJ de energia.</b></p>"
   ]
  },
  {
   "cell_type": "markdown",
   "id": "0e063878-69d5-456e-8215-7b4faad15820",
   "metadata": {},
   "source": [
    "#### Entropia de combustão"
   ]
  },
  {
   "cell_type": "markdown",
   "id": "82b7fd2f-1210-4ff2-85aa-6bf749f74d38",
   "metadata": {},
   "source": [
    "<p style='text-align: justify'>Para dar sequência ao experimento, é necessário, enfim, calcular a entropia de combustão. Ao ter conhecimento do seu valor, poderemos compreender as propriedades termodinâmicas da reação, permitindo possíveis estudos para otimização dos processos relacionados a esse tipo de reação. Esse cálculo será realizado com valores de entropia encontradas em tabelas do site NIST, citado nas referências do experimento.</p>"
   ]
  },
  {
   "cell_type": "code",
   "execution_count": 10,
   "id": "059c4219-2140-4091-8c57-9272004b81bb",
   "metadata": {},
   "outputs": [],
   "source": [
    "S_hex = 295.2 #Entropia do 1-Hexeno líquido\n",
    "S_O2 =  205 #Entropia do oxigênio\n",
    "S_H2O = 6.6 #Entropia da água\n",
    "S_CO2 = 120.4 #Entropia do gás carbônico"
   ]
  },
  {
   "cell_type": "markdown",
   "id": "c0744d94-f658-4e95-88fd-391d248fac82",
   "metadata": {},
   "source": [
    "<p style='text-align: justify'>O cálculo pode, então, ser feito</p>\n",
    "\n",
    "<p style='text-align: center'> $ a \\: A + b \\: B → c \\: C + d \\: D $</p>\n",
    "\n",
    "<p style='text-align: center'> ΔS = (c*S[C] + d*S[D]) - (a*S[A] + b*S[B])</p>"
   ]
  },
  {
   "cell_type": "markdown",
   "id": "dd441e93-3b64-4fe9-bce8-c0e88a17e3f6",
   "metadata": {},
   "source": [
    "<p style='text-align: justify'>ou seja, vamos fazer a soma das entropias dos produtos e a soma da entropia dos reagente e depois, a diferença existente entre os resultados.</p>"
   ]
  },
  {
   "cell_type": "code",
   "execution_count": 11,
   "id": "2c72090d-ab41-4a22-bebd-7b0f1183e554",
   "metadata": {},
   "outputs": [
    {
     "name": "stdout",
     "output_type": "stream",
     "text": [
      "A variação da entropia de combustão para o 1-Hexeno será de -373.2 J/mol K\n"
     ]
    }
   ],
   "source": [
    "S_prod = S_H2O + S_CO2 # soma das entropias dos produtos\n",
    "S_reag = S_hex + S_O2 # soma das entropias dos reagentes\n",
    "\n",
    "S_combustao = S_prod - S_reag # variação da entropia\n",
    "\n",
    "print(f'A variação da entropia de combustão para o 1-Hexeno será de {S_combustao} J/mol K')"
   ]
  },
  {
   "cell_type": "markdown",
   "id": "f0500b24-727e-47fc-ade4-5e20c4acce2b",
   "metadata": {},
   "source": [
    "#### Energia interna"
   ]
  },
  {
   "cell_type": "markdown",
   "id": "c64beeb5-1bb2-4fb2-98fe-9cf7ce3e6934",
   "metadata": {},
   "source": [
    "<p style='text-align: justify'>Seguindo no raciocínio dos potenciais termodinâmicos envolvidos na combustão, temos a energia interna do sistema. Pensando em um sistema termodinâmico em equilíbrio, ele trabalha de forma que a energia interna (U) seja minimizada e que a entropia (S) seja maximixada. Tendo esses dois parâmetros, $U(S, V, N_{1}, ..., N_{n})$ e  $S(U, V, N_{1}, ..., N_{n})$, que dependem de uma ampla gama de variáveis, temos a definição completa do sistema do ponto de vista termodinâmico. Entretanto, eles são parâmetros difíceis de serem medidos e, praticamente, impossíveis de serem controlados.</p>\n",
    "\n",
    "<p style='text-align: justify'>Sabendo disso, cientificamente, uma abordagem adotada é tornar parâmetros intensivos (os quais conseguimos medir e controlar razoavelmente bem, como temperatura e pressão), que surgem a partir de relações/derivadas dos parâmetros extensivos, como variáveis independentes para descrever o sistema. Isso porque, tendo as múltiplas derivadas (tangentes) dos mais variados pontos do problema (hipersuperfície, no caso), podemos descrevê-lo por inteiro também.</p>\n",
    "\n",
    "<p style='text-align: justify'>Nesse contexto, utilizamos a Transformada de Lejandre para obtermos a forma de mensurar cada potencial sendo descrito para o nosso sistema. A partir dela, obtemos a forma de calcularmos a entalpia e a energia livre de Gibbs, por exemplo.</p>"
   ]
  },
  {
   "cell_type": "markdown",
   "id": "ebc1e45d-368c-4f6a-b501-3f375e617365",
   "metadata": {},
   "source": [
    "#### Energia livre de Gibbs"
   ]
  },
  {
   "cell_type": "markdown",
   "id": "4b0fbdf3-516e-46cb-909a-98a366b358f4",
   "metadata": {},
   "source": [
    "<p style='text-align: justify'>A energia livre de gibbs é mais um dos importantes potenciais termodinâmicos que estão envolvidos no experimento, ela determina a direção de um processo espontâneo para sistemas com temperatura e pressão constantes.</p>\n",
    "\n",
    "<p style='text-align: justify'>Para mensurar esse potencial, deve-se calcular ΔG = ΔH - TΔS, ou seja, a subtração da entalpia pela temperatura do sistema em kelvin multiplicada pela entropia do sistema, a qual foi obtida mais a cima no experimento. Essa equação foi obtida através da aplicação da transformada de Lejandre na equação da energia interna sistema considerando a entropia, pressão constante e volume constante.</p>\n",
    "\n",
    "<p style='text-align: justify'>Todos os sistemas físicos tendem sempre a se mover na direção de equilíbrio, ou seja, de menor energia, em que a derivada da energia de Gibbs seja nula e, nesse caso, a entropia do sistema será máxima tendo uma grande multiplicidade. A depender do valor obtido ao se calcular esse potencial termodinâmico, é possível saber se a reação ocorre de maneira espontânea, sua variação é negativa, ou forçada, sua variação é positiva.</p>\n",
    "\n",
    "<p style='text-align: justify'>Agora vamos realizar o cálculo para o 1-Hexeno, utilizando os valores obtidos a cima, para entender como o sistema se comporta durante a combustão,</p>"
   ]
  },
  {
   "cell_type": "code",
   "execution_count": 12,
   "id": "9270db2b-5532-4639-b378-2946fb019f58",
   "metadata": {},
   "outputs": [
    {
     "name": "stdout",
     "output_type": "stream",
     "text": [
      "A energia livre de Gibbs da combustão do 1-Hexeno é de 107210.6+/-3.1 J/mol\n"
     ]
    }
   ],
   "source": [
    "Gibbs_hex = (entalpia_combustao_1_hexene) - (298*S_combustao) \n",
    "\n",
    "print(f'A energia livre de Gibbs da combustão do 1-Hexeno é de {Gibbs_hex} J/mol')"
   ]
  },
  {
   "cell_type": "markdown",
   "id": "00cd4dca-0778-4843-9016-c33055084b9b",
   "metadata": {},
   "source": [
    "<p style='text-align: justify'>Com esse resultado positivo, percebe-se, então, o comportamento <b>não espontâneo da reação</b> e, sendo assim, o <b>1-Hexeno</b> pode ser tomado como <b>não inflamável</b>.<p>"
   ]
  },
  {
   "cell_type": "markdown",
   "id": "b0089d1f-5ddf-4d32-bafa-9d044d0abeda",
   "metadata": {},
   "source": [
    "#### Equação de estado do sistema"
   ]
  },
  {
   "cell_type": "markdown",
   "id": "7647e24e-795b-4bea-acac-5c7cb5a7b66d",
   "metadata": {},
   "source": [
    "<p style='text-align: justify'>Uma equação de estado descreve o comportamento de um sistema termodinâmico a depender de suas variáveis com a temperatura, pressão e volume. Para resolvê-la, o melhor seria utilizar a equação de Van-der-Waals, que é própria para gases reais, pois considera as interações existentes entre as moléculas do sistema.</p>"
   ]
  },
  {
   "cell_type": "markdown",
   "id": "440a52f0-402b-4e0f-9c76-663e356d62a3",
   "metadata": {},
   "source": [
    "<p style='text-align: center'> $$P + \\frac{an^{2}}{V^{2}} * (V -nb) = nRT$$"
   ]
  },
  {
   "cell_type": "markdown",
   "id": "3c5bd21e-81ec-4ac4-bd7c-94f6674e01c6",
   "metadata": {},
   "source": [
    "<p style='text-align: justify'>Sendo P a pressão, V o volume molar, n o número de mols, R a constante dos gases ideais, T a temperatura em Kelvin e a e b constantes específicas da substância. No entanto, não será possível utilizá-la devido a falta de dados que permitam descobrir quais são as constantes a e b para o 1-Hexeno e, sendo assim, iremos utilizar a clássica equação dos gases ideais no nosso experimento.</p>"
   ]
  },
  {
   "cell_type": "markdown",
   "id": "66887a2a-0411-42a4-ab22-a5977a505089",
   "metadata": {},
   "source": [
    "<p style='text-align: center'>$PV = nRT$"
   ]
  },
  {
   "cell_type": "markdown",
   "id": "a3d24c0b-df0c-45f7-8709-4d40cb5ea7cb",
   "metadata": {},
   "source": [
    "<p style='text-align: justify'>Nesse caso, passamos a considerar o comportamento da substância em condições ideais, dessa forma, ela não considera a interação entre as moléculas e considera que o volume de ocupação delas é insignificante em relação ao volume total do sistema. Essa aproximação é válida apenas quando as interações entre as moléculas são desprezíveis, mas dada a falta de informações para calcular a equação de estado de outra forma, como relatado a cima, iremos fazê-la dessa forma para descobrir o volume da substância para combustão,</p>"
   ]
  },
  {
   "cell_type": "code",
   "execution_count": 17,
   "id": "8c7adc1b-1aca-4a13-8c4c-d2850bb19d2f",
   "metadata": {},
   "outputs": [
    {
     "name": "stdout",
     "output_type": "stream",
     "text": [
      "O volume de combustão é igual a 0.024763800000000002 m^3\n"
     ]
    }
   ],
   "source": [
    "P = 100000 # pressão em Pa (considerando 1 bar)\n",
    "n = 1 # número de mols\n",
    "R = 8.31 # J/(mol*K)\n",
    "T = 298 # temperatura em Kelvin\n",
    "\n",
    "V = (n*R*T)/P\n",
    "\n",
    "print(f'O volume de combustão é igual a {V} m^3')"
   ]
  },
  {
   "cell_type": "markdown",
   "id": "712d001c-0149-493e-b56c-565e1c08d56e",
   "metadata": {},
   "source": [
    "Sendo assim, a equação de estado do 1-Hexeno em condições ideais é:\n",
    "\n",
    "<p style='text-align: center'> 100000 * 0.0247638 = 1 * 8.31 * 298</p>"
   ]
  },
  {
   "cell_type": "markdown",
   "id": "27e4270d-b664-4174-bd4b-5d579cb9548d",
   "metadata": {},
   "source": [
    "### Conclusão"
   ]
  },
  {
   "cell_type": "markdown",
   "id": "9642fbcd-90a9-44d2-b382-706cd867685c",
   "metadata": {},
   "source": [
    "<p style='text-align: justify'>De posse de todas essas informações, podemos resumi-las para podermos passar ao próximo desafio preparados!</p>\n",
    "\n",
    "<p style='text-align: justify'>Nosso objetivo aqui era, tendo obtido o 1-Hexeno puro e na sua forma líquida, realizar a combustão do mesmo, seguindo a equação:</p>\n",
    "\n",
    "<p style='text-align: center'> $ C_{6}H_{12}(l) + 9 \\: O_{2}(g) → 6 \\: H_{2}O(l) + 6\\: CO_{2}(g) $</p>"
   ]
  },
  {
   "cell_type": "markdown",
   "id": "3932e581-0f13-4b8e-9e23-cb866b0655a9",
   "metadata": {},
   "source": [
    "<p style='text-align: justify'>Para essa reação, então, calculamos os seguintes parâmetros que descrevem esse sistema:</p>"
   ]
  },
  {
   "cell_type": "code",
   "execution_count": 15,
   "id": "4e917801-0070-4bb6-9c4b-fffcbb376128",
   "metadata": {},
   "outputs": [
    {
     "name": "stdout",
     "output_type": "stream",
     "text": [
      "Entalpia de combustão do 1-Hexeno (partindo da sua forma líquida): -4003.0+/-3.1 kJ/mol\n",
      "Variação da entropia de combustão para o 1-Hexeno: -373.2 J/mol K\n",
      "Energia livre de Gibbs da combustão do 1-Hexeno: 107210.6+/-3.1 J/mol\n",
      "Volume de combustão: 0.024763800000000002 m^3\n"
     ]
    }
   ],
   "source": [
    "print(f'Entalpia de combustão do 1-Hexeno (partindo da sua forma líquida): {entalpia_combustao_1_hexene} kJ/mol')\n",
    "print(f'Variação da entropia de combustão para o 1-Hexeno: {S_combustao} J/mol K')\n",
    "print(f'Energia livre de Gibbs da combustão do 1-Hexeno: {Gibbs_hex} J/mol')\n",
    "print(f'Volume de combustão: {V} m^3')"
   ]
  },
  {
   "cell_type": "markdown",
   "id": "9330a9e2-a2f8-4033-951b-9d5502d2bf68",
   "metadata": {},
   "source": [
    "<p style='text-align: justify'>Obtendo a seguinte equação de estado, considerando com comportamento ideal:</p>\n",
    "\n",
    "<p style='text-align: center'> $100000 * 0.0247638 = 1 * 8.31 * 298$</p>"
   ]
  },
  {
   "cell_type": "markdown",
   "id": "067d78a0-b01d-425d-94d0-ab185e6de8b0",
   "metadata": {},
   "source": [
    "### Referências:"
   ]
  },
  {
   "cell_type": "markdown",
   "id": "bd5d5eb6-a226-42c1-aa47-99abda8c7347",
   "metadata": {},
   "source": [
    "- SCHROEDER, Daniel V. An introduction to thermal physics. San Francisco, CA: Addison Wesley, 2000.\n",
    "\n",
    "- MCQUARRIE, Donald A.; SIMON, John D. Physical chemistry: a molecular approach. Sausalito, Calif: University Science Books, 1997.\n",
    "\n",
    "- 1-Hexene - NIST web chem book. Disponível em: <https://webbook.nist.gov/cgi/cbook.cgi?ID=C592416&Units=SI&Mask=7>"
   ]
  }
 ],
 "metadata": {
  "kernelspec": {
   "display_name": "ilumpy",
   "language": "python",
   "name": "ilumpy"
  },
  "language_info": {
   "codemirror_mode": {
    "name": "ipython",
    "version": 3
   },
   "file_extension": ".py",
   "mimetype": "text/x-python",
   "name": "python",
   "nbconvert_exporter": "python",
   "pygments_lexer": "ipython3",
   "version": "3.9.7"
  }
 },
 "nbformat": 4,
 "nbformat_minor": 5
}
