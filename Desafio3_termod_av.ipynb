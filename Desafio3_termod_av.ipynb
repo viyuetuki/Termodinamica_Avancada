{
 "cells": [
  {
   "cell_type": "markdown",
   "id": "e3a2e070-bd21-4b0f-a057-6b42f5cb4cfc",
   "metadata": {},
   "source": [
    "<center><img src=\"logo_ilum_2023.png\" style=\"width:1000px;height:200px\"/></center>"
   ]
  },
  {
   "cell_type": "markdown",
   "id": "b4d02485-0c00-433b-b39e-eec0e1c5ce09",
   "metadata": {},
   "source": [
    "# 🥼 Caderno de experimentos de Termodinâmica Avançada "
   ]
  },
  {
   "cell_type": "markdown",
   "id": "111c2c61-aa9e-4303-ac7b-9db099904f52",
   "metadata": {},
   "source": [
    "## 🔥 Desafio 3"
   ]
  },
  {
   "cell_type": "markdown",
   "id": "33abb504-cf65-48cd-af90-46f2bc25f1ad",
   "metadata": {},
   "source": [
    "**Objetivo**: Realizar a combustão do composto escolhido"
   ]
  },
  {
   "cell_type": "markdown",
   "id": "74a08378-82fa-47a6-b3e0-4394555a3fcf",
   "metadata": {},
   "source": [
    "-----\n"
   ]
  },
  {
   "cell_type": "markdown",
   "id": "b1198878-e873-4612-93f3-b8be5a0d5945",
   "metadata": {},
   "source": [
    "_Aspectos importantes a serem considerados:_\n",
    "\n",
    ">Os potenciais termodinâmicos (energia interna, entalpia, energia livre de Gibbs) envolvidos na reação de combustão.\n",
    "\n",
    "> A entropia envolvida na reação de combustão.\n",
    "\n",
    ">A equação de estado a ser usada para o sistema."
   ]
  },
  {
   "cell_type": "markdown",
   "id": "2eb21f07-9126-4741-a3b0-4c5aab5b4dd2",
   "metadata": {},
   "source": [
    "------"
   ]
  },
  {
   "cell_type": "markdown",
   "id": "94b1a026-07bf-4ef0-9c65-d7a70c182189",
   "metadata": {},
   "source": [
    "<p style='text-align: justify'>Após os processos realizados no desafio 2 dos nossos experimentos em termodinâmica avançada obtemos o 1-Hexeno em sua forma pura e líquida ao sair do condensador, o qual agora passará pela reação de combustão para poder entrar no ciclo rankine. A reação de combustão corresponde a oxidação total de uma substância para geração de energia para um sistema, além disso essa reação gera também como produto água e gás carbônico. Ademais, é válido ressaltar que essa é reação é do tipo exotérmica, ou seja, a variação de entalpia da reação deve resultar em um número positivo, tendo, enfim, a liberação de energia."
   ]
  },
  {
   "cell_type": "markdown",
   "id": "455849cc-c4b5-4f38-a5d7-8137b4093c1c",
   "metadata": {},
   "source": [
    "<p style='text-align: justify'>A reação de combustão em que iremos realizar no experimento, como dito anteriormente, é a do 1-Hexeno que pode ser vista abaixo (considerando o 1-Hexeno no estado líquido):"
   ]
  },
  {
   "cell_type": "markdown",
   "id": "1acf7e1b-cb00-4ee8-8a66-63b496786678",
   "metadata": {},
   "source": [
    "<p style='text-align: center'> $ C_6H_12 + 9 \\: O_2 → 6 \\: H_2O + 6\\: CO_2 $"
   ]
  },
  {
   "cell_type": "code",
   "execution_count": 9,
   "id": "2ddbe698-dc1c-41f0-a9a3-f9a490094e7f",
   "metadata": {},
   "outputs": [],
   "source": [
    "#entalpia"
   ]
  },
  {
   "cell_type": "markdown",
   "id": "0e063878-69d5-456e-8215-7b4faad15820",
   "metadata": {},
   "source": [
    "#### Entropia de combustão"
   ]
  },
  {
   "cell_type": "markdown",
   "id": "82b7fd2f-1210-4ff2-85aa-6bf749f74d38",
   "metadata": {},
   "source": [
    "<p style='text-align: justify'>Para dar sequência ao experimento é necessário, enfim, calcular a entropia de combustão, ao ter conhecimento do seu valor poderemos compreender as propriedades termodinâmicas da reação permitindo possíveis estudos para otimização dos processos relacionados a esse tipo de reação. Esse cálculo será realizado com valores de entropia encontradas em tabelas do site nist, citado nas referências do experimento."
   ]
  },
  {
   "cell_type": "code",
   "execution_count": 16,
   "id": "059c4219-2140-4091-8c57-9272004b81bb",
   "metadata": {},
   "outputs": [],
   "source": [
    "S_hex = 295.2  #Entropia do 1-Hexeno líquido\n",
    "S_O2 =  205 #Entropia do oxigênio\n",
    "S_H2O = 6.6 #Entropia da água\n",
    "S_CO2 = 120.4 #Entropia do gás carbônico"
   ]
  },
  {
   "cell_type": "markdown",
   "id": "c0744d94-f658-4e95-88fd-391d248fac82",
   "metadata": {},
   "source": [
    "O cálculo pode, então ser feito \n",
    "\n",
    "<p style='text-align: center'> $ a \\: A + b \\: B → c \\: C + d \\: D $\n",
    "\n",
    "<p style='text-align: center'> ΔS = (c*S[C] + d*S[D]) - (a*S[A] + b*S[B])"
   ]
  },
  {
   "cell_type": "markdown",
   "id": "dd441e93-3b64-4fe9-bce8-c0e88a17e3f6",
   "metadata": {},
   "source": [
    "ou seja, vamos fazer a soma das entropias dos produtos e a soma da entropia dos reagente e depois, a diferença existente entre os resultados."
   ]
  },
  {
   "cell_type": "code",
   "execution_count": 19,
   "id": "2c72090d-ab41-4a22-bebd-7b0f1183e554",
   "metadata": {},
   "outputs": [
    {
     "name": "stdout",
     "output_type": "stream",
     "text": [
      "A variação da entropia de combustão para o 1-Hexeno será de -373.2 J/mol K\n"
     ]
    }
   ],
   "source": [
    "S_prod = S_H2O + S_CO2 #soma das entropias dos produtos\n",
    "S_reag = S_hex + S_O2 #soma das entropias dos reagentes\n",
    "\n",
    "S_combustao = S_prod - S_reag #variação da entropia\n",
    "\n",
    "print(f'A variação da entropia de combustão para o 1-Hexeno será de {S_combustao} J/mol K')"
   ]
  },
  {
   "cell_type": "code",
   "execution_count": 3,
   "id": "74193e3c-1d91-477c-bcfc-b9587ba9b390",
   "metadata": {},
   "outputs": [],
   "source": [
    "#energia interna"
   ]
  },
  {
   "cell_type": "markdown",
   "id": "ebc1e45d-368c-4f6a-b501-3f375e617365",
   "metadata": {},
   "source": [
    "#### Energia livre de Gibbs"
   ]
  },
  {
   "cell_type": "markdown",
   "id": "4b0fbdf3-516e-46cb-909a-98a366b358f4",
   "metadata": {},
   "source": [
    "<p style='text-align: justify'>A energia livre de gibbs é mais um dos importantes potenciais termodinâmicos que estão envolvidos no experimento, ela determina a direção de um processo espontâneo para sistemas com temperatura e pressão constantes. \n",
    "\n",
    "<p style='text-align: justify'>Para mensurar esse potencial deve-se calcular ΔG = ΔH - TΔS, ou seja, a subtração da entalpia pela temperatura do sistema em kelvin multiplicada pela entropia do sistema, a qual foi obtida mais a cima no experimento. Essa equação foi obtida através da aplicação da transformada de Lejandre na equação da energia interna sistema considerando a entropia, pressão constante e volume constante.\n",
    "\n",
    "<p style='text-align: justify'>Todos os sistemas físicos tendem sempre a se mover na direção de equilíbrio, ou seja de menor energia, em que a derivada da energia de Gibbs seja nula e nesse caso, a entropia do sistema será máxima tendo uma grande multiplicidade. A depender do valor obtido ao se calcular esse potencial termodinâmico é possível saber se a reação ocorre de maneira espontânea, sua variação é negativa, ou forçada, sua variação é positiva.\n",
    "\n",
    "<p style='text-align: justify'>Agora vamos realizar o cálculo para o 1-Hexeno utilizando os valores obtidos a cima para entender como o sistema se comporta durante a combustão,"
   ]
  },
  {
   "cell_type": "code",
   "execution_count": 49,
   "id": "9270db2b-5532-4639-b378-2946fb019f58",
   "metadata": {},
   "outputs": [
    {
     "name": "stdout",
     "output_type": "stream",
     "text": [
      "A energia livre de Gibbs da combustão do 1-Hexeno é de 111140.59999999999 J/mol\n"
     ]
    }
   ],
   "source": [
    "Gibbs_hex = (-73) - (298*S_combustao) \n",
    "\n",
    "print(f'A energia livre de Gibbs da combustão do 1-Hexeno é de {Gibbs_hex} J/mol')"
   ]
  },
  {
   "cell_type": "markdown",
   "id": "00cd4dca-0778-4843-9016-c33055084b9b",
   "metadata": {},
   "source": [
    "Com esse resultado, positivo percebe-se então o comportamento não espontânea da reação e, sendo assim, o 1-Hexeno pode ser tomado como não inflamável."
   ]
  },
  {
   "cell_type": "markdown",
   "id": "b0089d1f-5ddf-4d32-bafa-9d044d0abeda",
   "metadata": {},
   "source": [
    "#### Equação de estado do sistema"
   ]
  },
  {
   "cell_type": "markdown",
   "id": "7647e24e-795b-4bea-acac-5c7cb5a7b66d",
   "metadata": {},
   "source": [
    "<p style='text-align: justify'>Uma equação de estado descreve o comportamento de um sistema termodinâmica a depender de suas variáveis com a temperatura, pressão e volume. Para resolvê-la o melhor seria utilizar a equação de Van-der-Waals que é própria para gases reais, pois considera as interações existentes entre as moléculas do sistema."
   ]
  },
  {
   "cell_type": "markdown",
   "id": "440a52f0-402b-4e0f-9c76-663e356d62a3",
   "metadata": {},
   "source": [
    "<p style='text-align: center'>P + an<sup>2</sup> / V<sup>2</sup> * (V -nb) = nRT"
   ]
  },
  {
   "cell_type": "markdown",
   "id": "3c5bd21e-81ec-4ac4-bd7c-94f6674e01c6",
   "metadata": {},
   "source": [
    "<p style='text-align: justify'>Sendo P a pressão, V o volume molar, n o número de mols, R a constante dos gases ideais, T a temperatura em Kelvin e a e b constantes específicas da substância. No entanto, não será possível utilizá-la devido a falta de dados que permitam descobrir quais são as constantes a e b para o 1-Hexeno e, sendo assim, iremos utilizar a clássica equação dos gases ideais no nosso experimento. "
   ]
  },
  {
   "cell_type": "markdown",
   "id": "66887a2a-0411-42a4-ab22-a5977a505089",
   "metadata": {},
   "source": [
    "<p style='text-align: center'>PV = nRT"
   ]
  },
  {
   "cell_type": "markdown",
   "id": "a3d24c0b-df0c-45f7-8709-4d40cb5ea7cb",
   "metadata": {},
   "source": [
    "<p style='text-align: justify'>Nesse caso passamos a considerar o comportamento da substância em condições ideais, dessa forma, ela não considera a interação entre as moléculas e considera que o volume de ocupação delas é insignificante em relação ao volume total do sistema. Essa aproximação é válida apenas quando as interações entre as moléculas são desprezíveis, mas dada a falta de informações para calcular a equação de estado de outra forma, como relatado a cima, iremos faze-la dessa forma para descobrir o volume da substância para combustão,"
   ]
  },
  {
   "cell_type": "code",
   "execution_count": 40,
   "id": "8c7adc1b-1aca-4a13-8c4c-d2850bb19d2f",
   "metadata": {},
   "outputs": [
    {
     "name": "stdout",
     "output_type": "stream",
     "text": [
      "O volume de combustão é igual a -952.4538461538461 m^3\n"
     ]
    }
   ],
   "source": [
    "P =-5.2\n",
    "n = 2\n",
    "R = 8.31\n",
    "T = 298\n",
    "\n",
    "V = (n*R*T)/P\n",
    "\n",
    "print(f'O volume de combustão é igual a {V} m^3')"
   ]
  },
  {
   "cell_type": "markdown",
   "id": "712d001c-0149-493e-b56c-565e1c08d56e",
   "metadata": {},
   "source": [
    "Sendo assim, a equação de estado do 1-Hexeno em condições ideais é:\n",
    "\n",
    "<p style='text-align: center'> -5.2 * -952.8 = 2 * 8.31 * 298"
   ]
  },
  {
   "cell_type": "code",
   "execution_count": null,
   "id": "2d7a19d4-4901-4111-919a-61daa847c71e",
   "metadata": {},
   "outputs": [],
   "source": [
    "#Conclusão"
   ]
  },
  {
   "cell_type": "markdown",
   "id": "067d78a0-b01d-425d-94d0-ab185e6de8b0",
   "metadata": {},
   "source": [
    "### Referências:"
   ]
  },
  {
   "cell_type": "markdown",
   "id": "bd5d5eb6-a226-42c1-aa47-99abda8c7347",
   "metadata": {},
   "source": [
    "- SCHROEDER, Daniel V. An introduction to thermal physics. San Francisco, CA: Addison Wesley, 2000.\n",
    "\n",
    "- MCQUARRIE, Donald A.; SIMON, John D. Physical chemistry: a molecular approach. Sausalito, Calif: University Science Books, 1997.\n",
    "\n",
    "- 1-Hexene - NIST web chem book. Disponível em: <https://webbook.nist.gov/cgi/cbook.cgi?ID=C592416&Units=SI&Mask=7>"
   ]
  },
  {
   "cell_type": "code",
   "execution_count": null,
   "id": "1e4a4c93-13e8-4074-b35e-1f785442cd14",
   "metadata": {},
   "outputs": [],
   "source": []
  }
 ],
 "metadata": {
  "kernelspec": {
   "display_name": "ilumpy",
   "language": "python",
   "name": "ilumpy"
  },
  "language_info": {
   "codemirror_mode": {
    "name": "ipython",
    "version": 3
   },
   "file_extension": ".py",
   "mimetype": "text/x-python",
   "name": "python",
   "nbconvert_exporter": "python",
   "pygments_lexer": "ipython3",
   "version": "3.9.7"
  }
 },
 "nbformat": 4,
 "nbformat_minor": 5
}
