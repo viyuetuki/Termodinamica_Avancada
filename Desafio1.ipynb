{
 "cells": [
  {
   "cell_type": "markdown",
   "id": "a9c6e5e5-8c62-4a0a-a606-bb03b98b783b",
   "metadata": {},
   "source": [
    "<center><img src=\"logo_ilum_2023.png\" style=\"width:1000px;height:200px\"/></center>"
   ]
  },
  {
   "cell_type": "markdown",
   "id": "b048b33b-3f5c-44ed-b3cf-e58e18c33475",
   "metadata": {},
   "source": [
    "# 🥼 Caderno de experimentos de Termodinâmica Avançada "
   ]
  },
  {
   "cell_type": "markdown",
   "id": "b3cd10f6-e4b3-46c0-85c2-cbef0e2a77f0",
   "metadata": {},
   "source": [
    "## 🧪 Desafio 1"
   ]
  },
  {
   "cell_type": "markdown",
   "id": "2003d297-dc25-4cff-af6f-623b96698ab5",
   "metadata": {},
   "source": [
    "**Objetivo:** A definição de uma mistura com potencial para fornecimento de energia ao ciclo Rankine (responsável pela geração de energia elétrica)."
   ]
  },
  {
   "cell_type": "markdown",
   "id": "5791cdcf-dbd6-47f3-b6bf-76ffe8e5271a",
   "metadata": {},
   "source": [
    "### Escolha da mistura"
   ]
  },
  {
   "cell_type": "markdown",
   "id": "a6aa63c3-37e8-4494-ad65-ee1f15aaa349",
   "metadata": {},
   "source": [
    "<p style='text-align: justify'>\n",
    "    Para início da justificativa de escolha de uma mistura eficiente para o desenvolvimento do trabalho, é necessário o entendimento do ciclo de Rankine. Esse ciclo termodinâmico apresenta uma eficiente capacidade de extrair a energia térmica de fluídos e, posteriormente, obter a partir deles energia mecânica em grande quantidade. O funcionamento do ciclo consiste na conversão do estado líquido para de vapor o que movimenta uma turbina, ou seja, gerando energia mecânica, e depois ele retorna ao seu estado líquido com pouca energia sendo removida pelos condensadores no mecanismo. Então, tendo em vista este ciclo, a escolha da mistura deveria considerar uma mistura com grande quantidade de energia, além disso, outro fator importante para essa consideração seria o seu impacto para o meio ambiente. Sendo assim, decidimos utilizar o biocombustível de alga devido ao fato de seu óleo ser rico em energia, ao seu fator de alta proliferação em curto período de tempo e também pela sua capacidade de realizar fotossíntese e contribuir para o meio ambiente sem poluí-lo.</p>\n",
    "    \n",
    "<p style='text-align: justify'>\n",
    "    Ao iniciar a pesquisa sobre o nosso líquido escolhido, no entanto, tivemos dificuldade em encontrar as informações necessárias sobre ele, sua entalpia, diagrama de fases e algum outro líquido que com ele poderia compor uma boa e realística mistura. Dessa forma, passamos a buscar outras substâncias que seria bom para o nosso estudo durante o curso, considerando por hora apenas a disponibilidade de dados sobre essa possível mistura além de suas propriedades termodinâmicas. Com isso, encontramos a solução de p-Xileno com 1-Hexeno e o escolhemos devido ao fato do p-xileno ser altamente inflamável e muito utilizado na indústria. Ademais, o ponto de ebulição dos dois também foram considerados e sendo eles de 138°C e 63,4°C ideias para o uso no ciclo de Rankine.</p>"
   ]
  },
  {
   "cell_type": "markdown",
   "id": "bf8c738d-aac7-462a-8e19-a821101d67e3",
   "metadata": {},
   "source": [
    "### Entalpia"
   ]
  },
  {
   "cell_type": "markdown",
   "id": "640eaa6d-56ad-41eb-8847-e8e1d174d527",
   "metadata": {},
   "source": [
    "<p style='text-align: justify'>\n",
    "    Pensando no objetivo de escolher uma mistura com potencial para o fornecimento de energia ao ciclo de Rankine, que é responsável pela geração de energia elétrica, uma propriedade muito importante que consideramos foi a <b>entalpia</b>.</p>\n",
    "\n",
    "<p style='text-align: justify'>\n",
    "    Ela pode ser compreendida como a quantidade de calor ou energia que é necessária colocar para criar o sistema em questão a partir do nada e inseri-lo no ambiente ou, ainda, a energia que é preciso extrair para aniquilar o sistema. Assim, ela é dada como uma quantidade total de energia requerida e fornecida, adicionando PV na energia U:</p>\n",
    "\n",
    "<p style='text-align: center'><b>H = U + PV</b> ,</p>\n",
    "\n",
    "<p style='text-align: justify'> sendo PV = W, trabalho, que é considerado visto a necessidade de energia para tirar o ar atmosférico do lugar para o sistema passar ocupá-lo ou a que é extraída, para além de U, quando ele colapsar.</p>\n",
    "\n",
    "<p style='text-align: justify'>\n",
    "    Supondo que algumas mudanças, como adição de calor, fossem feitas à pressão constante, seria possível observar as seguintes variações: ΔV, ΔU e ΔH. Com isso, </p>\n",
    "    \n",
    "<p style='text-align: center'>H + ΔH = (U + ΔU) + P(V + ΔV)</p>\n",
    "<p style='text-align: center'>H + ΔH = (U + PV) + (ΔU + PΔV)</p>\n",
    "<p style='text-align: center'>H + ΔH = H + (U + PV) + (ΔU + PΔV)</p>\n",
    "<p style='text-align: center'><b>ΔH = ΔU + PΔV</b></p>\n",
    "\n",
    "<p style='text-align: justify'>\n",
    "    Dessa definição, podemos concluir que a entalpia vai aumentar quando a energia (U) aumentar ou quando o sistema expandir, realizando trabalho (PV) na atmosfera.</p>\n",
    "    \n",
    "<p style='text-align: justify'>\n",
    "    Considerando a primeira lei da termodinâmica, </p>\n",
    "\n",
    "<p style='text-align: center'>ΔU = Q - PΔV ,</p>\n",
    "\n",
    "<p style='text-align: justify'> sendo a pressão constante, ΔU a variação de energia feita, Q a quantidade de calor adicionado no sistema e PΔV o trabalho feito de compressão-expansão, além de considerar que não há outro tipo de trabalho sendo feito, realocando essa definição na fórmula de variação de entalpia encontrada, temos:</p>\n",
    "\n",
    "<p style='text-align: center'>ΔH = (Q - PΔV) - PΔV</p>\n",
    "<p style='text-align: center'><b>ΔH = Q.</b></p>\n",
    "\n",
    "<p style='text-align: justify'>\n",
    "    O que nos leva a definição operacional de entalpia em que, à pressão constante e sem outros tipos de trabalho, a variação na entalpia é equivalente, indicando diretamente, o quanto de calor foi adicionado ao sistema, em outras palavras, o quanto de calor se tem no sistema que está imerso nessa vizinhança de pressão constante.</p>\n",
    "    \n",
    "<p style='text-align: justify'>\n",
    "    Sobre a entalpia, ainda há dois conceitos que usamos para a determinação da nossa mistura. O primeiro é <b>entropia de formação</b>, Δ<sub>f </sub>H<sup>o</sup> , que diz respeito a entalpia necessária para a formação de um mol um composto a partir de seus elementos fundamentais em seus estados estáveis. O segundo é a propriedade de <b>aditividade</b>, conhecida por <b>Lei de Hess</b>, a qual estabelece que, se somarmos duas equações químicas, a fim de se obter uma terceira equação química, o valor de Δ<sub>r </sub>H (entalpia da reação) para a equação resultante é igual a soma de Δ<sub>r </sub>H das duas equações sendo somadas. Com isso,<p>\n",
    "        \n",
    "<p style='text-align: center'>Δ<sub>r </sub>H(3) = <sub>r </sub>H(1) + <sub>r </sub>H(2)</p>\n",
    "<p style='text-align: center'>Δ<sub>r </sub>H = Δ<sub>r </sub>H (inversa).</p>\n",
    "\n",
    "<p style='text-align: justify'>\n",
    "    Dessa forma, encontramos que </p>\n",
    "    \n",
    "<p style='text-align: center'>Xylene: Δ<sub>f </sub>H<sup>o</sup>(g) = 17.9 kJ/mol , com imprecisão de 1</p>\n",
    "<p style='text-align: center'>1-Hexene: Δ<sub>f </sub>H<sup>o</sup>(g) = -42 kJ/mol , com imprecisão de 2.</p>\n",
    "    \n",
    "<p style='text-align: justify'>\n",
    "    Assim, </p>\n",
    "    \n",
    "<p style='text-align: center'>Δ<sub>r </sub>H = -24.1 kJ/mol, com erro de 3.</p>\n",
    "    \n",
    "<p style='text-align: justify'>\n",
    "    Logo, por se caracterizar como uma reação exotérmica, em que Δ<sub>r </sub>H é menor que 0, ou seja, libera calor ao sistema, é uma boa escolha de mistura para nosso objetivo</p>"
   ]
  },
  {
   "cell_type": "markdown",
   "id": "c2e9b6a2-669c-4d06-a3da-41f5d7eaa6e3",
   "metadata": {},
   "source": [
    "### Diagrama de fases"
   ]
  },
  {
   "cell_type": "markdown",
   "id": "25e24686-82ed-451b-9710-ad5fe63fd508",
   "metadata": {},
   "source": [
    "<p style='text-align: justify'>\n",
    "    O diagrama de fases da mistura de p-xileno e 1-hexeno foi encontrado no banco de dados Dortmund. Nele está representado no eixo das ordenadas a temperatura em Kelvin e no eixo das abscissas a porcentagem de 1-hexeno na solução.</p>"
   ]
  },
  {
   "cell_type": "markdown",
   "id": "4776eabf-be13-490c-ad5f-998a45610f82",
   "metadata": {},
   "source": [
    "<center><img src=\"diagrama_de_fases.png\" style=\"width:600px;height:600px\"/></center>"
   ]
  },
  {
   "cell_type": "markdown",
   "id": "b160905f-564e-4ac4-adc0-2ae7eebcce5b",
   "metadata": {},
   "source": [
    "----------"
   ]
  },
  {
   "cell_type": "markdown",
   "id": "5a86dde8-7d43-40f9-9cd6-2f6a22a06dbf",
   "metadata": {},
   "source": [
    "## ⚗ Desafio 2"
   ]
  },
  {
   "cell_type": "markdown",
   "id": "799bba3c-b866-4246-93d1-59b32a64c01a",
   "metadata": {},
   "source": [
    "**Objetivo:** Separação dos líquidos na mistura e a evaporação do combustível.\n",
    "\n",
    "-----\n",
    "_Aspectos importantes que devem ser considerados:_\n",
    "\n",
    ">O volume final da mistura calculado a partir dos volumes parciais molares.\n",
    "\n",
    ">O comportamento da mistura de líquido (ideal ou não ideal)\n",
    "\n",
    ">As características do diagrama de fases da mistura líquida.\n",
    "\n",
    ">A pressão de vapor dos compostos\n",
    "\n",
    "----------"
   ]
  },
  {
   "cell_type": "markdown",
   "id": "f6d04140-3751-4f41-874d-36ea94d99167",
   "metadata": {},
   "source": [
    "Primeiramente é necessário calcular o volume total da mistura para se entender como que o sistema irá se comportar nas próximas etapas. Para realizar o cálculo partimos da equação do volume total por volumes parciais molares.\n",
    "\n",
    "                                                V(por mol) = Vp1.X1 + Vp2.X2 \n",
    "\n",
    "Agora, utilizando a relação da densidade ...."
   ]
  },
  {
   "cell_type": "markdown",
   "id": "197349d5-23ba-494b-886e-3c1ebe464c9d",
   "metadata": {},
   "source": [
    "----"
   ]
  },
  {
   "cell_type": "markdown",
   "id": "d4a33d46-46fd-4cc1-970a-09874cf4a3bd",
   "metadata": {},
   "source": [
    "_Definindo valores:_"
   ]
  },
  {
   "cell_type": "markdown",
   "id": "1b479b32-5b15-4cea-923e-0ae33c488e68",
   "metadata": {},
   "source": [
    "Massas em gramas por mol:"
   ]
  },
  {
   "cell_type": "code",
   "execution_count": 1,
   "id": "64be6809-2317-4194-a95a-ecd6da5059d0",
   "metadata": {},
   "outputs": [],
   "source": [
    "mmol_p_xylene = 106.16 \n",
    "mmol_1_hexene = 84.16"
   ]
  },
  {
   "cell_type": "markdown",
   "id": "19c0c7a0-387f-4065-b0a0-611b5ebc0eaf",
   "metadata": {},
   "source": [
    "Densidade da mistura a depender da fração (a fração considerada é a do hexano):"
   ]
  },
  {
   "cell_type": "code",
   "execution_count": 2,
   "id": "590be3c8-7eb3-494d-bafb-269b32594c75",
   "metadata": {},
   "outputs": [],
   "source": [
    "ρ_50 = 0.76\n",
    "ρ_63 = 0.74\n",
    "ρ_73 = 0.72\n",
    "ρ_84 = 0.70\n",
    "ρ_93 = 0.68"
   ]
  },
  {
   "cell_type": "markdown",
   "id": "010418f8-ebf8-4016-819c-abaade267a6a",
   "metadata": {},
   "source": [
    "-----"
   ]
  },
  {
   "cell_type": "markdown",
   "id": "0fced538-30cd-4ec5-ab91-d8786cf21b7d",
   "metadata": {},
   "source": [
    "Função para o cálculo do volume por mol da mistura:"
   ]
  },
  {
   "cell_type": "code",
   "execution_count": 3,
   "id": "1cc35836-009d-4dde-89e9-e8cb21709263",
   "metadata": {},
   "outputs": [],
   "source": [
    "def volume_por_mol(ρ,X1,MW1,MW2):\n",
    "    \n",
    "    Volume_pmol = ((X1*MW1)+((1-X1)*MW2))/ρ\n",
    "    \n",
    "    return Volume_pmol "
   ]
  },
  {
   "cell_type": "code",
   "execution_count": 4,
   "id": "6e96bde2-8835-443d-94d9-3bb801ecf1c7",
   "metadata": {},
   "outputs": [
    {
     "name": "stdout",
     "output_type": "stream",
     "text": [
      "124.72972972972973\n"
     ]
    }
   ],
   "source": [
    "print(volume_por_mol(ρ_63,0.63,mmol_1_hexene,mmol_p_xylene))"
   ]
  },
  {
   "cell_type": "code",
   "execution_count": null,
   "id": "e4f50876-cb6c-4614-b567-7bac4c262345",
   "metadata": {},
   "outputs": [],
   "source": []
  }
 ],
 "metadata": {
  "kernelspec": {
   "display_name": "ilumpy",
   "language": "python",
   "name": "ilumpy"
  },
  "language_info": {
   "codemirror_mode": {
    "name": "ipython",
    "version": 3
   },
   "file_extension": ".py",
   "mimetype": "text/x-python",
   "name": "python",
   "nbconvert_exporter": "python",
   "pygments_lexer": "ipython3",
   "version": "3.9.7"
  }
 },
 "nbformat": 4,
 "nbformat_minor": 5
}
