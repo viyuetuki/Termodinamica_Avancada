{
 "cells": [
  {
   "cell_type": "markdown",
   "id": "a9c6e5e5-8c62-4a0a-a606-bb03b98b783b",
   "metadata": {},
   "source": [
    "<center><img src=\"logo_ilum_2023.png\" style=\"width:1000px;height:200px\"/></center>"
   ]
  },
  {
   "cell_type": "markdown",
   "id": "b048b33b-3f5c-44ed-b3cf-e58e18c33475",
   "metadata": {},
   "source": [
    "# 🥼 Caderno de experimentos de Termodinâmica Avançada "
   ]
  },
  {
   "cell_type": "markdown",
   "id": "b3cd10f6-e4b3-46c0-85c2-cbef0e2a77f0",
   "metadata": {},
   "source": [
    "## 🧪 Desafio 1"
   ]
  },
  {
   "cell_type": "markdown",
   "id": "2003d297-dc25-4cff-af6f-623b96698ab5",
   "metadata": {},
   "source": [
    "**Objetivo:** A definição de uma mistura com potencial para fornecimento de energia ao ciclo Rankine (responsável pela geração de energia elétrica)."
   ]
  },
  {
   "cell_type": "markdown",
   "id": "5791cdcf-dbd6-47f3-b6bf-76ffe8e5271a",
   "metadata": {},
   "source": [
    "### Escolha da mistura"
   ]
  },
  {
   "cell_type": "markdown",
   "id": "a6aa63c3-37e8-4494-ad65-ee1f15aaa349",
   "metadata": {},
   "source": [
    "<p style='text-align: justify'>\n",
    "    Para início da justificativa de escolha de uma mistura eficiente para o desenvolvimento do trabalho, é necessário o entendimento do ciclo de Rankine. Esse ciclo termodinâmico apresenta uma eficiente capacidade de extrair a energia térmica de fluídos e, posteriormente, obter a partir deles energia mecânica em grande quantidade. O funcionamento do ciclo consiste na conversão do estado líquido para de vapor o que movimenta uma turbina, ou seja, gerando energia mecânica, e depois ele retorna ao seu estado líquido com pouca energia sendo removida pelos condensadores no mecanismo. Então, tendo em vista este ciclo, a escolha da mistura deveria considerar uma mistura com grande quantidade de energia, além disso, outro fator importante para essa consideração seria o seu impacto para o meio ambiente. Sendo assim, decidimos utilizar o biocombustível de alga devido ao fato de seu óleo ser rico em energia, ao seu fator de alta proliferação em curto período de tempo e também pela sua capacidade de realizar fotossíntese e contribuir para o meio ambiente sem poluí-lo.</p>\n",
    "    \n",
    "<p style='text-align: justify'>\n",
    "    Ao iniciar a pesquisa sobre o nosso líquido escolhido, no entanto, tivemos dificuldade em encontrar as informações necessárias sobre ele, sua entalpia, diagrama de fases e algum outro líquido que com ele poderia compor uma boa e realística mistura. Dessa forma, passamos a buscar outras substâncias que seria bom para o nosso estudo durante o curso, considerando por hora apenas a disponibilidade de dados sobre essa possível mistura além de suas propriedades termodinâmicas. Com isso, encontramos a solução de p-Xileno com 1-Hexeno e o escolhemos devido ao fato do p-xileno ser altamente inflamável e muito utilizado na indústria. Ademais, o ponto de ebulição dos dois também foram considerados e sendo eles de 138°C e 63,4°C ideias para o uso no ciclo de Rankine.</p>"
   ]
  },
  {
   "cell_type": "markdown",
   "id": "bf8c738d-aac7-462a-8e19-a821101d67e3",
   "metadata": {},
   "source": [
    "### Entalpia"
   ]
  },
  {
   "cell_type": "markdown",
   "id": "640eaa6d-56ad-41eb-8847-e8e1d174d527",
   "metadata": {},
   "source": [
    "<p style='text-align: justify'>\n",
    "    Pensando no objetivo de escolher uma mistura com potencial para o fornecimento de energia ao ciclo de Rankine, que é responsável pela geração de energia elétrica, uma propriedade muito importante que consideramos foi a <b>entalpia</b>.</p>\n",
    "\n",
    "<p style='text-align: justify'>\n",
    "    Ela pode ser compreendida como a quantidade de calor ou energia que é necessária colocar para criar o sistema em questão a partir do nada e inseri-lo no ambiente ou, ainda, a energia que é preciso extrair para aniquilar o sistema. Assim, ela é dada como uma quantidade total de energia requerida e fornecida, adicionando PV na energia U:</p>\n",
    "\n",
    "<p style='text-align: center'><b>H = U + PV</b> ,</p>\n",
    "\n",
    "<p style='text-align: justify'> sendo PV = W, trabalho, que é considerado visto a necessidade de energia para tirar o ar atmosférico do lugar para o sistema passar ocupá-lo ou a que é extraída, para além de U, quando ele colapsar.</p>\n",
    "\n",
    "<p style='text-align: justify'>\n",
    "    Supondo que algumas mudanças, como adição de calor, fossem feitas à pressão constante, seria possível observar as seguintes variações: ΔV, ΔU e ΔH. Com isso, </p>\n",
    "    \n",
    "<p style='text-align: center'>H + ΔH = (U + ΔU) + P(V + ΔV)</p>\n",
    "<p style='text-align: center'>H + ΔH = (U + PV) + (ΔU + PΔV)</p>\n",
    "<p style='text-align: center'>H + ΔH = H + (U + PV) + (ΔU + PΔV)</p>\n",
    "<p style='text-align: center'><b>ΔH = ΔU + PΔV</b></p>\n",
    "\n",
    "<p style='text-align: justify'>\n",
    "    Dessa definição, podemos concluir que a entalpia vai aumentar quando a energia (U) aumentar ou quando o sistema expandir, realizando trabalho (PV) na atmosfera.</p>\n",
    "    \n",
    "<p style='text-align: justify'>\n",
    "    Considerando a primeira lei da termodinâmica, </p>\n",
    "\n",
    "<p style='text-align: center'>ΔU = Q - PΔV ,</p>\n",
    "\n",
    "<p style='text-align: justify'> sendo a pressão constante, ΔU a variação de energia feita, Q a quantidade de calor adicionado no sistema e PΔV o trabalho feito de compressão-expansão, além de considerar que não há outro tipo de trabalho sendo feito, realocando essa definição na fórmula de variação de entalpia encontrada, temos:</p>\n",
    "\n",
    "<p style='text-align: center'>ΔH = (Q - PΔV) - PΔV</p>\n",
    "<p style='text-align: center'><b>ΔH = Q.</b></p>\n",
    "\n",
    "<p style='text-align: justify'>\n",
    "    O que nos leva a definição operacional de entalpia em que, à pressão constante e sem outros tipos de trabalho, a variação na entalpia é equivalente, indicando diretamente, o quanto de calor foi adicionado ao sistema, em outras palavras, o quanto de calor se tem no sistema que está imerso nessa vizinhança de pressão constante.</p>\n",
    "    \n",
    "<p style='text-align: justify'>\n",
    "    Sobre a entalpia, ainda há dois conceitos que usamos para a determinação da nossa mistura. O primeiro é <b>entropia de formação</b>, Δ<sub>f </sub>H<sup>o</sup> , que diz respeito a entalpia necessária para a formação de um mol um composto a partir de seus elementos fundamentais em seus estados estáveis. O segundo é a propriedade de <b>aditividade</b>, conhecida por <b>Lei de Hess</b>, a qual estabelece que, se somarmos duas equações químicas, a fim de se obter uma terceira equação química, o valor de Δ<sub>r </sub>H (entalpia da reação) para a equação resultante é igual a soma de Δ<sub>r </sub>H das duas equações sendo somadas. Com isso,<p>\n",
    "        \n",
    "<p style='text-align: center'>Δ<sub>r </sub>H(3) = <sub>r </sub>H(1) + <sub>r </sub>H(2)</p>\n",
    "<p style='text-align: center'>Δ<sub>r </sub>H = Δ<sub>r </sub>H (inversa).</p>\n",
    "\n",
    "<p style='text-align: justify'>\n",
    "    Dessa forma, encontramos que </p>\n",
    "    \n",
    "<p style='text-align: center'>Xylene: Δ<sub>f </sub>H<sup>o</sup>(g) = 17.9 kJ/mol , com imprecisão de 1</p>\n",
    "<p style='text-align: center'>1-Hexene: Δ<sub>f </sub>H<sup>o</sup>(g) = -42 kJ/mol , com imprecisão de 2.</p>\n",
    "    \n",
    "<p style='text-align: justify'>\n",
    "    Assim, </p>\n",
    "    \n",
    "<p style='text-align: center'>Δ<sub>r </sub>H = -24.1 kJ/mol, com erro de 3.</p>\n",
    "    \n",
    "<p style='text-align: justify'>\n",
    "    Logo, por se caracterizar como uma reação exotérmica, em que Δ<sub>r </sub>H é menor que 0, ou seja, libera calor ao sistema, é uma boa escolha de mistura para nosso objetivo</p>"
   ]
  },
  {
   "cell_type": "markdown",
   "id": "c2e9b6a2-669c-4d06-a3da-41f5d7eaa6e3",
   "metadata": {},
   "source": [
    "### Diagrama de fases"
   ]
  },
  {
   "cell_type": "markdown",
   "id": "25e24686-82ed-451b-9710-ad5fe63fd508",
   "metadata": {},
   "source": [
    "<p style='text-align: justify'>\n",
    "    O diagrama de fases da mistura de p-xileno e 1-hexeno foi encontrado no banco de dados Dortmund. Nele está representado no eixo das ordenadas a temperatura em Kelvin e no eixo das abscissas a porcentagem de 1-hexeno na solução.</p>"
   ]
  },
  {
   "cell_type": "markdown",
   "id": "4776eabf-be13-490c-ad5f-998a45610f82",
   "metadata": {},
   "source": [
    "<center><img src=\"diagrama_de_fases.png\" style=\"width:600px;height:600px\"/></center>"
   ]
  },
  {
   "cell_type": "markdown",
   "id": "b160905f-564e-4ac4-adc0-2ae7eebcce5b",
   "metadata": {},
   "source": [
    "----------"
   ]
  },
  {
   "cell_type": "markdown",
   "id": "5a86dde8-7d43-40f9-9cd6-2f6a22a06dbf",
   "metadata": {},
   "source": [
    "## ⚗ Desafio 2"
   ]
  },
  {
   "cell_type": "markdown",
   "id": "799bba3c-b866-4246-93d1-59b32a64c01a",
   "metadata": {},
   "source": [
    "**Objetivo:** Separação dos líquidos na mistura e a evaporação do combustível.\n",
    "\n",
    "-----\n",
    "_Aspectos importantes que devem ser considerados:_\n",
    "\n",
    ">O volume final da mistura calculado a partir dos volumes parciais molares.\n",
    "\n",
    ">O comportamento da mistura de líquido (ideal ou não ideal)\n",
    "\n",
    ">As características do diagrama de fases da mistura líquida.\n",
    "\n",
    ">A pressão de vapor dos compostos\n",
    "</p>\n",
    "\n",
    "----------"
   ]
  },
  {
   "cell_type": "markdown",
   "id": "f6d04140-3751-4f41-874d-36ea94d99167",
   "metadata": {},
   "source": [
    "<p style='text-align: justify'> Primeiramente, é necessário calcular o volume total da mistura para se entender como que o sistema irá se comportar nas próximas etapas. Para realizar o cálculo, haja visto que o volume é um parâmetro extensivo,partimos da equação do volume total por volumes parciais molares:</p>\n",
    "\n",
    "<p style='text-align: center'>\n",
    "V = V<sub>p1</sub>.n<sub>1</sub> + V<sub>p2</sub>.n<sub>2</sub> .\n",
    "</p>\n",
    "\n",
    "<p style='text-align: justify'> Dividindo pelo número total de mols:</p>\n",
    "\n",
    "<p style='text-align: center'>\n",
    "V/(n<sub>1</sub> + n<sub>2</sub>) = V<sub>p1</sub>.n<sub>1</sub>/(n<sub>1</sub> + n<sub>2</sub>) + V<sub>p2</sub>.n<sub>2</sub>/(n<sub>1</sub> + n<sub>2</sub>)\n",
    "</p>\n",
    "<p style='text-align: center'>\n",
    "V<sub>(por mol)</sub> = V<sub>p1</sub>.x<sub>1</sub> + V<sub>p2</sub>.x<sub>2</sub> ,\n",
    "</p>\n",
    "<p style='text-align: center'>\n",
    "em que x1 e x2 são a fração molar do composto 1 e a do 2, respectivamente.\n",
    "</p>\n",
    "\n",
    "<p style='text-align: justify'> Agora, utilizando a relação da densidade, temos que:</p>\n",
    "\n",
    "<p style='text-align: center'>\n",
    " -> Sabendo x<sub>1</sub> e tendo em mente que x<sub>1</sub> + x<sub>2</sub> = 1 (complementares): \n",
    "</p>\n",
    "<p style='text-align: center'>\n",
    "ρ<sub>mistura</sub>(x<sub>1</sub>) = MW<sub>1</sub> / V<sub>p1</sub>(x<sub>1</sub>)\n",
    "</p>\n",
    "<p style='text-align: center'>\n",
    "ρ<sub>mistura</sub>(x<sub>1</sub>) = MW<sub>2</sub> / V<sub>p2</sub>(x<sub>1</sub>)\n",
    "</p>\n",
    "<p style='text-align: center'>\n",
    " -> Substituindo na equação de volume: \n",
    "</p>\n",
    "<p style='text-align: center'>\n",
    "V<sub>(por mol)</sub> = (V<sub>p1</sub>.x<sub>1</sub>.MW<sub>1</sub>)/ρ<sub>mistura</sub>(x<sub>1</sub>) + (V<sub>p2</sub>.x<sub>2</sub>MW<sub>2</sub>)/ρ<sub>mistura</sub>(x<sub>1</sub>)\n",
    "</p>\n",
    "<p style='text-align: center'>\n",
    " -> Reescrevendo, lembrando da relação de complementariedade de x<sub>1</sub> e x<sub>2</sub>: \n",
    "</p>\n",
    "<p style='text-align: center'>\n",
    "V<sub>M</sub><sub>(por mol)</sub> = (V<sub>p1</sub>.x<sub>1</sub>.MW<sub>1</sub> + V<sub>p2</sub>.(1 - x<sub>1</sub>)MW<sub>2</sub>)/ρ<sub>mistura</sub>(x<sub>1</sub>) ,\n",
    "</p>\n",
    "<p style='text-align: center'> sendo MW<sub>1</sub> e MW<sub>2</sub> os pesos moleculares (molar weights) de cada composto, respectivamente.</p>\n",
    "\n",
    "<p style='text-align: justify'> O que nos permite calcular, se tivermos valores diferentes para cada densidade da mistura, medidas experimentalmente para cada fração molar, o volume por mol da mistura.</p>"
   ]
  },
  {
   "cell_type": "markdown",
   "id": "197349d5-23ba-494b-886e-3c1ebe464c9d",
   "metadata": {},
   "source": [
    "----"
   ]
  },
  {
   "cell_type": "code",
   "execution_count": 8,
   "id": "e6d8cb62-1ffa-4ad3-baa6-e2918e5e6303",
   "metadata": {},
   "outputs": [],
   "source": [
    "#Importando bibliotecas necessárias para o desafio\n",
    "\n",
    "import pandas as pd\n",
    "import seaborn as sns\n",
    "import numpy as np\n",
    "import matplotlib.pyplot as plt"
   ]
  },
  {
   "cell_type": "markdown",
   "id": "d4a33d46-46fd-4cc1-970a-09874cf4a3bd",
   "metadata": {},
   "source": [
    "_Definindo valores:_"
   ]
  },
  {
   "cell_type": "markdown",
   "id": "1b479b32-5b15-4cea-923e-0ae33c488e68",
   "metadata": {},
   "source": [
    "<p style='text-align: justify'> Massas em gramas por mol:</p>"
   ]
  },
  {
   "cell_type": "code",
   "execution_count": 9,
   "id": "64be6809-2317-4194-a95a-ecd6da5059d0",
   "metadata": {},
   "outputs": [],
   "source": [
    "mmol_p_xylene = 106.16  # massa molar [g/mol]: p-xileno\n",
    "mmol_1_hexene = 84.16   # massa molar [g/mol]: 1-hexeno"
   ]
  },
  {
   "cell_type": "markdown",
   "id": "19c0c7a0-387f-4065-b0a0-611b5ebc0eaf",
   "metadata": {},
   "source": [
    "<p style='text-align: justify'> Densidade da mistura a depender da fração (a fração molar considerada é a do hexano):</p>"
   ]
  },
  {
   "cell_type": "code",
   "execution_count": 10,
   "id": "590be3c8-7eb3-494d-bafb-269b32594c75",
   "metadata": {},
   "outputs": [],
   "source": [
    "ρ_50 = 0.76  # densidade [g/cm3] para 0.5 do 1-hexano para 1 mol da mistura\n",
    "ρ_63 = 0.74  # densidade [g/cm3] para 0.63 do 1-hexano para 1 mol da mistura\n",
    "ρ_73 = 0.72  # densidade [g/cm3] para 0.73 do 1-hexano para 1 mol da mistura\n",
    "ρ_84 = 0.70  # densidade [g/cm3] para 0.84 do 1-hexano para 1 mol da mistura\n",
    "ρ_93 = 0.68  # densidade [g/cm3] para 0.93 do 1-hexano para 1 mol da mistura"
   ]
  },
  {
   "cell_type": "markdown",
   "id": "010418f8-ebf8-4016-819c-abaade267a6a",
   "metadata": {},
   "source": [
    "-----"
   ]
  },
  {
   "cell_type": "markdown",
   "id": "e5a0984a-50f6-4390-9553-0a721b6ebec7",
   "metadata": {},
   "source": [
    "Para o nosso problema temos como definição que a massa final da mistura deve ser de 1 tonelada, sendo assim, algumas conversões são necessárias para o cálculo do volume final, as quais estão descritas a baixo"
   ]
  },
  {
   "cell_type": "code",
   "execution_count": 13,
   "id": "70e99f8b-ed2f-403d-8bdf-22b5d60d6bb5",
   "metadata": {},
   "outputs": [],
   "source": [
    "massa_total = 1e6 #g"
   ]
  },
  {
   "cell_type": "markdown",
   "id": "0fced538-30cd-4ec5-ab91-d8786cf21b7d",
   "metadata": {},
   "source": [
    "<p style='text-align: justify'> Função para o cálculo do volume por mol da mistura:</p>"
   ]
  },
  {
   "cell_type": "code",
   "execution_count": 11,
   "id": "1cc35836-009d-4dde-89e9-e8cb21709263",
   "metadata": {},
   "outputs": [],
   "source": [
    "def volume_por_mol(ρ,X1,MW1,MW2):\n",
    "    \n",
    "    \n",
    "    Volume_pmol = ((X1*MW1)+((1-X1)*MW2))/ρ\n",
    "    \n",
    "    return Volume_pmol "
   ]
  },
  {
   "cell_type": "code",
   "execution_count": 12,
   "id": "6e96bde2-8835-443d-94d9-3bb801ecf1c7",
   "metadata": {},
   "outputs": [
    {
     "name": "stdout",
     "output_type": "stream",
     "text": [
      "124.72972972972973\n"
     ]
    }
   ],
   "source": [
    "print(volume_por_mol(ρ_63,0.63,mmol_1_hexene,mmol_p_xylene))"
   ]
  },
  {
   "cell_type": "markdown",
   "id": "bff0d73b-2955-4da6-93ab-95a3497b902e",
   "metadata": {},
   "source": [
    "<p style='text-align: justify'> Portanto, <b>V<sub>mistura<sub>por mol</sub></sub> = 124.72972972972973 g/mol</b>.</p>"
   ]
  },
  {
   "cell_type": "markdown",
   "id": "fbb9145f-3691-4a94-aaeb-7654288adbed",
   "metadata": {},
   "source": [
    "------------"
   ]
  },
  {
   "cell_type": "markdown",
   "id": "83fe713d-7778-415d-b07e-c44361ba632c",
   "metadata": {},
   "source": [
    "<p style='text-align: justify'> Visando separar os líquidos da mistura, passamo-na por um processo de destilação fracionada simples, condensando e recondensando o vapor obtido diversas vezes, em prol de se obter um componente puro. \n",
    "    \n",
    "Nesse contexto, podemos fazer a seguinte análise do diagrama de fases:\n",
    "    \n",
    "- Determinamos que vamos iniciar com uma fração da mistura de 0.63530 mol de 1-Hexene líquido (na temperatura de 349.98°); </p>"
   ]
  },
  {
   "cell_type": "markdown",
   "id": "c4d72117-d2c3-4025-b50c-8a1b292629b4",
   "metadata": {},
   "source": [
    "<center><img src=\"diagrama_de_fases_concentracao.png\" style=\"width:600px;height:600px\"/></center>"
   ]
  },
  {
   "cell_type": "markdown",
   "id": "73718dd9-5158-4d0c-b22b-4b3e6c671c36",
   "metadata": {},
   "source": [
    "<p style='text-align: justify'> \n",
    "    \n",
    "- Com isso, de acordo com o gráfico, temos que a concentração no vapor que vamos obter é de 0.94340 de 1-Hexene na sua forma de vapor;\n",
    "    \n",
    "- Com ele, condensando-o e evaporando novamente, vamos ter um vapor com a concentração de, aproximadamente 0.0.99530 de 1-Hexene;\n",
    "    \n",
    "- Passando a uma temperatura menor que a anterior (336.64 K), é possível obtermos, enfim, a concentração de 1 mol/mol de 1-Hexene. Ou seja, conseguimos separar a mistura, obtendo o composto 1-Hexene puro.</p>"
   ]
  },
  {
   "cell_type": "markdown",
   "id": "188a9a27-5cae-46a5-a963-cad5da273792",
   "metadata": {},
   "source": []
  },
  {
   "cell_type": "markdown",
   "id": "4cea4491-a2d3-4643-b3f0-02b3d7f113b8",
   "metadata": {},
   "source": [
    "-----------"
   ]
  },
  {
   "cell_type": "markdown",
   "id": "0449ba7d-e98d-4a31-8d45-c8b350999894",
   "metadata": {},
   "source": [
    "<p style='text-align: justify'> Tendo analisado o volume, nos cabe analisar como se dá o comportamento desta mistura, verificando se é ideal ou não e analisando-o. A priori, que tal começarmos definindo o que seria cada um desses tipos de mistura?</p>\n",
    "\n",
    "<p style='text-align: justify'> Uma <b>mistura ideal</b> se caracteriza desta maneira quando os compostos envolvidos não possuem preferências de vizinho, possuem tamanho de suas partículas praticamente iguais, compondo uma mistura bem homogênea.\n",
    "\n",
    "Enquanto em uma <b>mistura não-ideal</b>, as moléculas têm preferência para ter como vizinhas as moléculas iguais.\n",
    "\n",
    "Pensando nisso, quando ela é ideal, já que existe um equilíbrio natural, é possível tirar várias informações a partir de modelagens e análises em relação ao vapor, que permitem inferir sobre propriedades das substâncias, da mistura líquida.\n",
    "\n",
    "Assim, quando ela é ideal, obedece à lei de Rault para todas as concentrações dos compostos, enquanto para não ideal, é necessário analisar seu gráfico por partes, sendo a mais próxima do idela com a lei de Raoult, outra com de Henry e o meio com modelagem.</p>\n",
    "\n",
    "<p style='text-align: center'> <b>Lei de Raoult</b>: P<sub>1</sub> = x<sub>1</sub> . P<sub>1</sub><sob>*</sob>; P<sub>2</sub> = x<sub>2</sub> . P<sub>2</sub><sob>*</sob>; P = P<sub>1</sub> + P<sub>2</sub></p>\n",
    "    \n",
    "<p style='text-align: center'> <b>Lei de Henry</b>: P<sub>1</sub> = k<sub>H, 1</sub> . x<sub>1</sub>; P<sub>2</sub> = k<sub>H, 2</sub> . x<sub>2</sub>."
   ]
  },
  {
   "cell_type": "markdown",
   "id": "adc0066c-9641-4686-8c6c-e59781016f5d",
   "metadata": {},
   "source": [
    "------------"
   ]
  },
  {
   "cell_type": "markdown",
   "id": "0b945676-0787-4507-a0e5-37e2f87e2b6c",
   "metadata": {},
   "source": [
    "<p style='text-align: justify'> Então, olhando para gráficos de pressão de vapor, podemos definir, por meio de alguns exemplos, como ele seria caso estivéssemos olhando para um de uma mistura ideal e também para outro não-ideal.</p>"
   ]
  },
  {
   "cell_type": "code",
   "execution_count": null,
   "id": "34d48682-c40a-47be-9fd7-5a1c1749ce7a",
   "metadata": {},
   "outputs": [],
   "source": []
  },
  {
   "cell_type": "markdown",
   "id": "abaa4c5d-947c-48ce-b57b-ebce4f998ea4",
   "metadata": {},
   "source": [
    "<p style='text-align: justify'> Para a nossa mistura (1-hexene + p-xylene), não encontramos gráfico de pressão de vapor pela fração dos compostos. Logo, vamos considerá-la ideal a fim de realizar os cálculos do problema. Sendo assim, a mistura, agora considerada ideal, respeita a lei de Raoult em todas as suas concentrações."
   ]
  },
  {
   "cell_type": "code",
   "execution_count": null,
   "id": "a72e25e7-a554-4bba-b9be-082fdd7ebc4c",
   "metadata": {},
   "outputs": [],
   "source": []
  },
  {
   "cell_type": "markdown",
   "id": "4b86265e-5e88-455c-b849-674be9c7caef",
   "metadata": {},
   "source": [
    "Lembrete - tópicos a falar\n",
    "\n",
    "- colocar o gráfico de pressao de vapor\n",
    "\n",
    "- indicar pq é não-ideal\n",
    "\n",
    "- indicar qual parte analisa com qual lei\n",
    "\n",
    "- indicar gráfico de miscibilidade\n",
    "\n",
    "- indicar como ocorre a transformação líquido-vapor, vapor-líquido de acordo com o diagrama de fases\n",
    "\n",
    "- calcular valores da pressão de vapor\n",
    " \n",
    "gráfico na temp de ebulição; conseguir pressão na temperatura e variair x = gráfico\n"
   ]
  },
  {
   "cell_type": "code",
   "execution_count": null,
   "id": "aa36b5bf-69c5-4158-82f7-34b9e37caba7",
   "metadata": {},
   "outputs": [],
   "source": []
  }
 ],
 "metadata": {
  "kernelspec": {
   "display_name": "ilumpy",
   "language": "python",
   "name": "ilumpy"
  },
  "language_info": {
   "codemirror_mode": {
    "name": "ipython",
    "version": 3
   },
   "file_extension": ".py",
   "mimetype": "text/x-python",
   "name": "python",
   "nbconvert_exporter": "python",
   "pygments_lexer": "ipython3",
   "version": "3.9.7"
  }
 },
 "nbformat": 4,
 "nbformat_minor": 5
}
