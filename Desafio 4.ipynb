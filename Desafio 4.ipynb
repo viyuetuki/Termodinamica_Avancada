{
 "cells": [
  {
   "cell_type": "markdown",
   "id": "00900bc4-db92-41d1-b9e2-b600e319d4ca",
   "metadata": {},
   "source": [
    "<center><img src=\"logo_ilum_2023.png\" style=\"width:1000px;height:200px\"/></center>"
   ]
  },
  {
   "cell_type": "markdown",
   "id": "5114baeb-4c3b-48fb-bf86-368b617f0500",
   "metadata": {},
   "source": [
    "## 🔄 Desafio 4"
   ]
  },
  {
   "cell_type": "markdown",
   "id": "cf54f72c-c4d2-4d2f-a72e-af55d09e47fd",
   "metadata": {},
   "source": [
    "--------"
   ]
  },
  {
   "cell_type": "markdown",
   "id": "63eb233d-5384-4893-b253-1591ab293e10",
   "metadata": {},
   "source": [
    "**Objetivo**: A operação do ciclo Rankine a partir da energia da combustão calculada na atividade 3."
   ]
  },
  {
   "cell_type": "markdown",
   "id": "cc6d2253-aff6-417d-b53b-f3ed277a8c72",
   "metadata": {},
   "source": [
    "--------"
   ]
  },
  {
   "cell_type": "markdown",
   "id": "49a55a5d-9ebf-41aa-936b-9af5ea8ccea1",
   "metadata": {},
   "source": [
    "_Aspectos importantes a serem considerados:_\n",
    "\n",
    ">Será considerado um ciclo de Rankine ideal.\n",
    "\n",
    ">Deverá ser definido como funciona o ciclo de Rankine.\n",
    "\n",
    ">Deve ser usado valores de entalpia para água-vapor de água tabelados para cálculo da eficiência.\n",
    "\n",
    ">Deve-se considerar se o ciclo fosse de Carnot. Nesse caso, qual seria a eficiência teórica?"
   ]
  },
  {
   "cell_type": "markdown",
   "id": "37feaf7a-67c2-4c68-a11d-68581f2f57ad",
   "metadata": {},
   "source": [
    "--------"
   ]
  },
  {
   "cell_type": "code",
   "execution_count": 1,
   "id": "3399b251-6fc1-40b7-9a32-bf2627de509c",
   "metadata": {},
   "outputs": [],
   "source": [
    "# importações para o desafio"
   ]
  },
  {
   "cell_type": "markdown",
   "id": "5ad4de52-ea41-4d30-bb14-7257557d776b",
   "metadata": {},
   "source": [
    "<p style='text-align: justify'>No experimento anterior, desafio 3, foi feita a combustão da nossa substância, o 1-Hexeno, com isso agora pode-se, enfim, iniciar o funcionamento do ciclo rankine de nossa usina.</p>\n",
    "<p style='text-align: justify'>No entanto, antes de iniciar esse novo experimento é preciso entender o que são os ciclos termodinâmicos iniciando pelo ciclo ideal de Carnot até entender o ciclo de rankine. Assim, ao final poderá ser estimada eficiência dos ciclos e todas as variáveis envolvidas no processo. Para isso utilizaremos os valores obtidos de entalpia, entropia de combustão e volume de combustão obtidos no experimento anterior.</p>"
   ]
  },
  {
   "cell_type": "code",
   "execution_count": null,
   "id": "7876a0e8-b171-423b-b657-cd0154cdc7da",
   "metadata": {},
   "outputs": [],
   "source": []
  },
  {
   "cell_type": "markdown",
   "id": "d16d28c0-8d37-49d7-8c24-fda2dff65371",
   "metadata": {},
   "source": [
    "### O que é e como funciona o Ciclo de Rankine❓"
   ]
  },
  {
   "cell_type": "markdown",
   "id": "c56d0d1c-3ae6-4feb-bc60-b734cc3ce1d9",
   "metadata": {},
   "source": [
    "<p style='text-align: justify'>O ciclo de Rankine é um ciclo termodinâmico que descreve motores a vapor, os quais são muito utilizados desde o século XIX até os dias atuais em grandes usinas. O vapor produz trabalho empurrando um pistão ou uma turbina, enquanto o calor provém da queima do combustível ou fissionamento de urânio.</p>\n",
    "\n",
    "<p style='text-align: justify'>Assim, no ciclo de Rankine, a energia térmica do combustível é convertida em trabalho mecânico ou em potência em usinas de turbina a vapor.</p>\n",
    "\n",
    "<p style='text-align: justify'>Dessa forma, o ciclo é composto por 4 elementos principais, sendo eles:</p>\n",
    "\n",
    "<ol>\n",
    "   <li>Boiler;</li>\n",
    "   <li>Turbina;</li>\n",
    "   <li>Condensador;</li>\n",
    "   <li>Bomba \"de alimentação\".</li>\n",
    "</ol>\n",
    "    \n",
    "<p style='text-align: justify'>Abaixo, é possível vermos um diagrama resumindo o ciclo e, logo depois, um diagrama idealizado de pressão por volume  para o ciclo, o nosso ciclo de Rankine.[colocar diagrama/gráfico]</p>\n",
    "\n",
    "<p style='text-align: justify'>Vamos entender, agora, todo o funcionamento por trás dessa represetação e, assim, como os elementos funcionam de forma integrada?</p>\n",
    "\n",
    "<p style='text-align: justify'>Vamos, então, considerar uma divisão feita em alguns processos e por pontos...</p>\n",
    "\n",
    "<p style='text-align: justify'>Começando pelo ponto1, temos que a água é bombeada para alta pressão, chegando ao nosso ponto 2, e, então, flui para um boiler, onde calor é adicionado à pressão constante. Nesse processo, a água é aquecida à pressão constante no boiler até a temperatura de saturação ser atingida. Então, a água saturada é convertida em vapor à pressão constante. Durante o processo, ainda, o vapor é superaquecido no superaquecedor. Aqui, o calor fornecido é $Q_{S} = h_{2} - h{1}$. Podemos ver diagramas desse processo:</p>\n",
    "\n",
    "<p style='text-align: justify'>No gráfico PxV, temos que a curva representa a curva de saturação, sendo que: o sue pico, representa o ponto crítico; seu lado esquerdo, indica limite do líquido saturado, então, em qualquer ponto, indica a água em estado líquido; já o lado direito do ponto crítico, indica limite de saturação do vapor, então, em qualquer ponto desse lado da curva indica que encontraremos o estado de vapor; a região acima do lado direito dessa curva indica a região de superaquecimento, de vapor saturado; a região acima do lado esquerdo, por sua vez, representa a região de líquido saturado; a área abaixo dessa curva indica a mistura dos dois, estados líquido + vapor.</p>\n",
    "\n",
    "<p style='text-align: justify'>Analisando o que acontece junto com os diagramas, como a água é posta no boiler à alta pressão, esse processo faaz com que estejamos subindo no gráfico. Como, em seguida, é convertida em vapor, o processo forma, agora, uma linha horizontal até atingir o outro lado do gráfico, e até passando um pouco, já que o vapor é superaquecido.</p>\n",
    "\n",
    "<p style='text-align: justify'>No ponto 3, o vapor atinge a turbina, onde expande adiabaticamente (isentrópica - tendo sua entropia conservada), resfria, e termina na pressão mais baixa original (ponto 4). Com isso, a pressão diminui e o volume aumenta. Por conta dessa expansão do vapor, a turbina à vapor gera trabalho mecânico, $W_{t} = h_{2} - h_{3}$. \n",
    "\n",
    "<p style='text-align: justify'>Finalmente, o fluido que saí da turbina, que está parcialmente condensado, é resfriado, logo após, à pressão constante, em um \"condensador\", que, na verdade, é uma rede de tubos que estão em bom contato termico com um reservatório à baixa temperatura. O calor resultante desse processo é $Q_{R} = h_{3} - h_{4}$. Vsito o cenário dado, vemos que a linha referente a esse processo no gráfico, é horizontal também e no sentido para a esquerda, posto a pressão contante, condensação e diminuição do volume.</p>\n",
    "\n",
    "<p style='text-align: justify'>Depois disso, fechando o ciclo, temos que, sendo fornecido um trabalho $W_{P} = h_{1} - h_{4}$ à bomba, a água condensada vinda do condensador é bombeada de volta para o boiler. Assim, o processo de bombeamento que ocorre é uma compressão isentrópica na bomba.\n",
    "\n",
    "<p style='text-align: justify'>Como, na maioria das vezes, bem como nesse nosso caso, a subtância sendo trabalhada no ciclo não é um gás ideal, ela condensa em líquido durante o ciclo. Dessa forma, infelizmente, o comportamento é complicado, então não há como calcular a eficiência do ciclo direto do diagrama PV. Entretanto, nesse caso, se sabemos a pressão em qualquer lugar e a temperatura no ponto 3, podemos olhar para os dados precisos para computar a eficiência nas chamadas \"tabelas de vapor\".</p>\n",
    "\n",
    "<p style='text-align: justify'>Além dessa análise de PxV, podemos visualizar um gráfico de temperatura por entropia também:</p>\n",
    "\n",
    "\n",
    "<p style='text-align: justify'>Agora sim podemos proseguir para a eficiência.</p>"
   ]
  },
  {
   "cell_type": "markdown",
   "id": "3a2b0e2a-2a1f-49c8-9fc7-31b167f28322",
   "metadata": {},
   "source": [
    "### Eficiência "
   ]
  },
  {
   "cell_type": "markdown",
   "id": "228da9c1-43eb-41d7-827a-5f07e39238e4",
   "metadata": {},
   "source": [
    "<p style='text-align: justify'>Pensando na eficiência co ciclo, vamos retormar alguns conceitos de motor térmico.</p>\n",
    "\n",
    "> O benefício de operá-lo é o trabalho que ele produz, o qual chamamos de $W$. \n",
    "\n",
    ">Além disso, o calor que é absorvido como custo da operação chamamos de $Q_{h}$. \n",
    "\n",
    "<p style='text-align: justify'>Assim, a eficiência de um motor térmico pode ser definida como a taxa benefício/taxa de custo.</p>\n",
    "\n",
    "<p style='text-align: center'> $$e = \\frac{benefício}{custo} = \\frac{W}{Q_{h}}$$</p>\n",
    "\n",
    "<p style='text-align: justify'>Nos voltando às leis da termodinâmica, temos que a primeira nos diz que a energia é conservada. Nesse sentido, sabendo que o estado do motor não deve mudar ao final do ciclo (o motor opera em ciclos e cada ciclo de operação retorna ao seu estado original), podemoz dizer que a energia que ele absorve precisa ser igual a energia que ele exterioriza. Assim:</p>\n",
    "\n",
    "<p style='text-align: center'> $$Q_{h} = Q_{c} + W$$</p>\n",
    "\n",
    "<p style='text-align: justify'>Substituindo W na expressão de eficiência:</p>\n",
    "\n",
    "<p style='text-align: center'> $$e = \\frac{Q_{h} - Q_{c}}{Q_{h}} = 1 - \\frac{Q_{c}}{Q_{h}}$$</p>\n",
    "\n",
    "<p style='text-align: justify'>Com isso, chegamos a conclusão que a eficiência não pode ser maior que 1, apensa menor ou igualar, quando $Q_{c}=0$. Desse modo, ela vai nos retornar um valor que equivale a uma porcentagem.</p>\n",
    "\n",
    "<p style='text-align: justify'>Recorrendo à segunda lei, que postula que a entropia total do motor adicionada à da sua volta pode aumentar, mas nunca diminuir, temos que a entropia que sai do ciclo necessita ser, ao menos, o tanto quanto a entropia que é absorvida. Nos dando que:</p>\n",
    "\n",
    ">Entropia extraída do reservatório quente: $\\frac{Q_{h}}{T_{h}}$\n",
    ">Entropia expelida para o reservatório frio: $\\frac{Q_{c}}{T_{c}}$\n",
    "\n",
    "<p style='text-align: center'> $$\\frac{Q_{c}}{T_{c}} => \\frac{Q_{h}}{T_{h}}$$ ou $$\\frac{Q_{c}}{Q_{h}} => \\frac{T_{c}}{T_{h}}$$</p>\n",
    "\n",
    "<p style='text-align: justify'>Estabelecida essa última relação, podemos associá-la à eficiência, tendo que:</p>\n",
    "\n",
    "<p style='text-align: center'> $$e <= 1 - \\frac{T_{c}}{T_{h}}$$</p>\n",
    "\n",
    "<p style='text-align: justify'>Agora, com essa relação podemos pensar na questão: Dados valores de $T_{c}$ e $T_{h}$, qual a eficiência máxima conseguimos obter? E, nesse sentido, quanto menor essa razão, maior a eficiência que o motor pode chegar. Assim, quando o reservatório frio é muito frio ou o quente é muito quente.</p>"
   ]
  },
  {
   "cell_type": "markdown",
   "id": "5344ade6-210d-47f3-a75c-fcfb7ffacd87",
   "metadata": {},
   "source": [
    "----------------------"
   ]
  },
  {
   "cell_type": "markdown",
   "id": "544ac632-a2cd-4fc3-9415-aff57e590d8b",
   "metadata": {},
   "source": [
    "<p style='text-align: justify'>Aplicando todos esse conceitos que vimos até agora...</p>\n",
    "<p style='text-align: justify'>A entalpia de uma substância é dada por $$H = U + PV$$, ou seja, sua  energia mais o trabalho preciso para fazê-lo ocupar um espaço em um ambiente de pressão constante. Portanto, a mudança de entalpia equivale ao calor absorvido em consições de pressão constante, assumindo que nenhum outro trabalho é feito.\n",
    "</p>"
   ]
  }
 ],
 "metadata": {
  "kernelspec": {
   "display_name": "ilumpy",
   "language": "python",
   "name": "ilumpy"
  },
  "language_info": {
   "codemirror_mode": {
    "name": "ipython",
    "version": 3
   },
   "file_extension": ".py",
   "mimetype": "text/x-python",
   "name": "python",
   "nbconvert_exporter": "python",
   "pygments_lexer": "ipython3",
   "version": "3.9.7"
  }
 },
 "nbformat": 4,
 "nbformat_minor": 5
}
