{
 "cells": [
  {
   "cell_type": "markdown",
   "id": "00900bc4-db92-41d1-b9e2-b600e319d4ca",
   "metadata": {},
   "source": [
    "<center><img src=\"logo_ilum_2023.png\" style=\"width:1000px;height:200px\"/></center>"
   ]
  },
  {
   "cell_type": "markdown",
   "id": "5114baeb-4c3b-48fb-bf86-368b617f0500",
   "metadata": {},
   "source": [
    "## 🔄 Desafio 4"
   ]
  },
  {
   "cell_type": "markdown",
   "id": "cf54f72c-c4d2-4d2f-a72e-af55d09e47fd",
   "metadata": {},
   "source": [
    "--------"
   ]
  },
  {
   "cell_type": "markdown",
   "id": "63eb233d-5384-4893-b253-1591ab293e10",
   "metadata": {},
   "source": [
    "**Objetivo**: A operação do ciclo Rankine a partir da energia da combustão calculada na atividade 3."
   ]
  },
  {
   "cell_type": "markdown",
   "id": "cc6d2253-aff6-417d-b53b-f3ed277a8c72",
   "metadata": {},
   "source": [
    "--------"
   ]
  },
  {
   "cell_type": "markdown",
   "id": "49a55a5d-9ebf-41aa-936b-9af5ea8ccea1",
   "metadata": {},
   "source": [
    "_Aspectos importantes a serem considerados:_\n",
    "\n",
    ">Será considerado um ciclo de Rankine ideal.\n",
    "\n",
    ">Deverá ser definido como funciona o ciclo de Rankine.\n",
    "\n",
    ">Deve ser usado valores de entalpia para água-vapor de água tabelados para cálculo da eficiência.\n",
    "\n",
    ">Deve-se considerar se o ciclo fosse de Carnot. Nesse caso, qual seria a eficiência teórica?"
   ]
  },
  {
   "cell_type": "markdown",
   "id": "37feaf7a-67c2-4c68-a11d-68581f2f57ad",
   "metadata": {},
   "source": [
    "--------"
   ]
  },
  {
   "cell_type": "code",
   "execution_count": 1,
   "id": "3399b251-6fc1-40b7-9a32-bf2627de509c",
   "metadata": {},
   "outputs": [],
   "source": [
    "# importações para o desafio"
   ]
  },
  {
   "cell_type": "markdown",
   "id": "5ad4de52-ea41-4d30-bb14-7257557d776b",
   "metadata": {},
   "source": [
    "<p style='text-align: justify'>No experimento anterior, desafio 3, foi feita a combustão da nossa substância, o 1-Hexeno, com isso agora pode-se, enfim, iniciar o funcionamento do ciclo rankine de nossa usina.</p>\n",
    "<p style='text-align: justify'>No entanto, antes de iniciar esse novo experimento é preciso entender o que são os ciclos termodinâmicos iniciando pelo ciclo ideal de Carnot até entender o ciclo de rankine. Assim, ao final poderá ser estimada eficiência dos ciclos e todas as variáveis envolvidas no processo. Para isso utilizaremos os valores obtidos de entalpia, entropia de combustão e volume de combustão obtidos no experimento anterior.</p>"
   ]
  },
  {
   "cell_type": "markdown",
   "id": "95d1d67a-b188-4004-9855-f458c052629b",
   "metadata": {},
   "source": [
    "### Cálculo da temperatura de combustão"
   ]
  },
  {
   "cell_type": "markdown",
   "id": "36a8d5df-aef0-4623-b78a-bf35754baa84",
   "metadata": {},
   "source": [
    "<p style='text-align: justify'>No notebook anterior não houve o cálculo da temperatura de combustão, o que foi notado pelas autoras e nesse experimento, então será necessário realizar o cálculo para que possamos seguir com a resolução do desafio. Para isso, será necessário utilizar os valor da entalpia de combustão do 1-hexeno tornando possível o cálculo do calor liberado da reação.</p>\n",
    "\n",
    "$$ ΔH = \\frac{q}{n} $$\n",
    "\n",
    "<p style='text-align: justify'>Sendo \"q\" o calor liberado e \"n\" o número de mols. Organizando a equação,</p>\n",
    "\n",
    "$$ q = n ΔH $$\n",
    "\n",
    "<p style='text-align: justify'>Do desafio anterior temos que ΔH = 4003.0+/-3.1 kJ/mol, em módulo, e a quantia de mols utilizada da substância foi de 1. Assim, podemos chegar no valor do calor liberado que para esse problema é de aproximadamente 4003 J. Usando a fórmula da capacidade calorífica podemos então realizar o cálculo $ q = C ΔT $ e obter, enfim, a temperatura de combustão, considerando C = 2.5 que é a capacidade calorífica do 1-hexeno.</p>"
   ]
  },
  {
   "cell_type": "code",
   "execution_count": 2,
   "id": "f5e269b5-1499-4776-be98-86123671ace3",
   "metadata": {},
   "outputs": [
    {
     "name": "stdout",
     "output_type": "stream",
     "text": [
      "A temperatura de combustão é de aproximadamente 1601.2 K\n"
     ]
    }
   ],
   "source": [
    "q = 4003\n",
    "C = 2.5\n",
    "ΔT = q/ C\n",
    "print(\"A temperatura de combustão é de aproximadamente\",ΔT, \"K\")"
   ]
  },
  {
   "cell_type": "markdown",
   "id": "e3f2fbff-0bcb-40c1-9e40-ee9850dab11b",
   "metadata": {},
   "source": [
    "Agora com esse valor em mãos, podemos seguir para a resolução deste novo experimento."
   ]
  },
  {
   "cell_type": "markdown",
   "id": "349a0e33-a2fa-4c4b-b995-db706912fce8",
   "metadata": {},
   "source": [
    "### Retomando o Ciclo de Carnot"
   ]
  },
  {
   "cell_type": "markdown",
   "id": "ca335b66-63d0-4364-b8c7-e65b332e953b",
   "metadata": {},
   "source": [
    "<p style='text-align: justify'>Antes de partimos para o ciclo de rankine que dará vida a usina térmica, vamos revisar o ciclo de Carnot e supor que o utilizaríamos para a nossa usina.</p> \n",
    "\n",
    "<p style='text-align: justify'>Primeiramente, imagine a possibilidade de se ter uma máquina que consegue atingir a máxima eficiência para todo o calor dado a ela, sendo esse reversível. É exatamente essa a proposta do ciclo de carnot proposta por Nicolas Carnot, engenheiro francês, em 1824.  O ciclo é composto através de um sistema composto por um gás confinado em um cilindro equipado com um pistão móvel.</p> \n",
    "\n",
    "<p style='text-align: justify'>Ademais, para o funcionamento do sistema é necessária uma fonte quente, uma fonte fria, um cilindro e um pistão. Todos esses elementos em conjunto permitem a execução dos processos termodinâmicos no ciclo de carnot. O calor é transferido entre as fontes fria e quente e o trabalho é realizada pela expansão e compressão do gás.  No entanto, esse sistema opera de forma totalmente idealizada contando com dois estágios isotérmicos e dois adiabáticos de forma intercalada como pode ser visto na figura 1.</p>\n",
    "\n",
    "<center><img src=\"ciclo_de_carnot.png\" style=\"width:300px;height:300px\"/></center>\n",
    "\n",
    "<p style='text-align: justify'>No ponto 1 do gráfico é ilustrada a primeira expansão isotérmica em que o gás sofre uma expansão a temperatura constante em contato com a fonte de calor. Nessa etapa ele absorve calor para compensar a queda de pressão sofrida pela expansão realizando trabalho. No ponto 2 é mostrada a expansão adiabática, nesse passo o gás se mantém expandindo sem trocar calor com o ambiente de forma extremamente rapidamente, nesse caso a temperatura cai bastante e como consequência há também a queda da energia interna do sistema devido a sua conversão em trabalho mecânico sem reabastecimento da energia. Isso é um dos fatores que torna o ciclo de carnot ideal, pois em uma situação real haverá sempre um perda de calor na realização de trabalho, por mais bem montado que o sua máquina possa ser montada, como diz a 2° lei da termodinâmica em que é postulado que nenhum mecanismo é capaz de converter completamente o calor em trabalho. No ponto 3 do gráfico é ilustrada a compressão isotérmica, nela o gás é comprimido reversivelmente enquanto está em contato com uma fonte fria a temperatura constante, nesse passo há a transferência de calor para o ambiente. Por fim, no passo 4 ocorre uma compressão adiabática, em que o gás permanece sendo comprimido, mas não troca calor com o ambiente e é realizado um trabalho sobre o gás e isso ocorre de forma extremamente rápida. Nesse processo há o aumento da energia interna do sistema o que aumenta a sua temperatura, isso ocorre com o objetivo de reduzir seu volume e aumentar a sua pressão.</p>\n",
    "\n",
    "<p style='text-align: justify'>Para melhor compreender o que ocorre com a temperatura, pressão e volume do sistema, vale a pena relembrar a seguinte equação,</p>\n",
    "\n",
    "$$ \\frac{P_1 V_1}{T_1} = \\frac{P_2 V_2}{T_2} $$"
   ]
  },
  {
   "cell_type": "markdown",
   "id": "bf5726d5-cd59-4bcf-ab52-f529c8b388bf",
   "metadata": {},
   "source": [
    "<p style='text-align: justify'>Com o conceito do ciclo de carnot retomado, podemos agora partir para o cálculo de sua eficiência ideal para a nossa usina utilizando sua fórmula própia,</p>\n",
    "\n",
    "$$ e = 1 - \\frac{T_f}{T_q}$$\n",
    "\n",
    "<p style='text-align: justify'>Sendo $T_f$ a temperatura da fonte fria e $T_q$ a temperatura da fonte quente. Vamos assumir que $T_f = 323 $ K devido as condições ambientais e que $T_q = 1601.2$ K que é a temperatura de combustão que corresponde a temperatura da fonte quente.</p>"
   ]
  },
  {
   "cell_type": "code",
   "execution_count": 6,
   "id": "08b10533-93b2-4de7-a0c3-9e4b4ca0ad4a",
   "metadata": {},
   "outputs": [
    {
     "name": "stdout",
     "output_type": "stream",
     "text": [
      "A eficiência do ciclo de carnot será de 0.8138663335415366\n"
     ]
    }
   ],
   "source": [
    "T_f = 298\n",
    "T_q = 1601\n",
    "\n",
    "e = 1 - (T_f/T_q)\n",
    "\n",
    "print(\"A eficiência do ciclo de carnot será de\",e)"
   ]
  },
  {
   "cell_type": "markdown",
   "id": "1e8930da-f48a-4b77-a035-e96e7649d96a",
   "metadata": {},
   "source": [
    "<p style='text-align: justify'>A eficiência do ciclo de carnot será de 0.7982510930668332\n",
    "Esse resultado obtido reflete então na eficiência máxima que um ciclo sob essas condições pode operar, o que é uma situação puramente ideal e que posteriormente será discutido comparando-a com a eficiência do ciclo Rankine.</p>"
   ]
  },
  {
   "cell_type": "markdown",
   "id": "d16d28c0-8d37-49d7-8c24-fda2dff65371",
   "metadata": {},
   "source": [
    "### O que é e como funciona o Ciclo de Rankine❓"
   ]
  },
  {
   "cell_type": "markdown",
   "id": "c56d0d1c-3ae6-4feb-bc60-b734cc3ce1d9",
   "metadata": {},
   "source": [
    "<p style='text-align: justify'>O ciclo de Rankine é um ciclo termodinâmico que descreve motores a vapor, os quais são muito utilizados desde o século XIX até os dias atuais em grandes usinas. O vapor produz trabalho empurrando um pistão ou uma turbina, enquanto o calor provém da queima do combustível ou fissionamento de urânio.</p>\n",
    "\n",
    "<p style='text-align: justify'>Assim, no ciclo de Rankine, a energia térmica do combustível é convertida em trabalho mecânico ou em potência em usinas de turbina a vapor.</p>\n",
    "\n",
    "<p style='text-align: justify'>Dessa forma, o ciclo é composto por 4 elementos principais, sendo eles:</p>\n",
    "\n",
    "<ol>\n",
    "   <li>Boiler;</li>\n",
    "   <li>Turbina;</li>\n",
    "   <li>Condensador;</li>\n",
    "   <li>Bomba \"de alimentação\".</li>\n",
    "</ol>\n",
    "    \n",
    "<p style='text-align: justify'>Abaixo, é possível vermos um diagrama resumindo o ciclo e, logo depois, um diagrama idealizado de pressão por volume  para o ciclo, o nosso ciclo de Rankine.[colocar diagrama/gráfico]</p>\n",
    "\n",
    "<p style='text-align: justify'>Vamos entender, agora, todo o funcionamento por trás dessa represetação e, assim, como os elementos funcionam de forma integrada?</p>\n",
    "\n",
    "<p style='text-align: justify'>Vamos, então, considerar uma divisão feita em alguns processos e por pontos...</p>\n",
    "\n",
    "<p style='text-align: justify'>Começando pelo ponto1, temos que a água é bombeada para alta pressão, chegando ao nosso ponto 2, e, então, flui para um boiler, onde calor é adicionado à pressão constante. Nesse processo, a água é aquecida à pressão constante no boiler até a temperatura de saturação ser atingida. Então, a água saturada é convertida em vapor à pressão constante. Durante o processo, ainda, o vapor é superaquecido no superaquecedor. Aqui, o calor fornecido é $Q_{S} = h_{2} - h{1}$. Podemos ver diagramas desse processo:</p>\n",
    "\n",
    "<p style='text-align: justify'>No gráfico PxV, temos que a curva representa a curva de saturação, sendo que: o sue pico, representa o ponto crítico; seu lado esquerdo, indica limite do líquido saturado, então, em qualquer ponto, indica a água em estado líquido; já o lado direito do ponto crítico, indica limite de saturação do vapor, então, em qualquer ponto desse lado da curva indica que encontraremos o estado de vapor; a região acima do lado direito dessa curva indica a região de superaquecimento, de vapor saturado; a região acima do lado esquerdo, por sua vez, representa a região de líquido saturado; a área abaixo dessa curva indica a mistura dos dois, estados líquido + vapor.</p>\n",
    "\n",
    "<p style='text-align: justify'>Analisando o que acontece junto com os diagramas, como a água é posta no boiler à alta pressão, esse processo faaz com que estejamos subindo no gráfico. Como, em seguida, é convertida em vapor, o processo forma, agora, uma linha horizontal até atingir o outro lado do gráfico, e até passando um pouco, já que o vapor é superaquecido.</p>\n",
    "\n",
    "<p style='text-align: justify'>No ponto 3, o vapor atinge a turbina, onde expande adiabaticamente (isentrópica - tendo sua entropia conservada), resfria, e termina na pressão mais baixa original (ponto 4). Com isso, a pressão diminui e o volume aumenta. Por conta dessa expansão do vapor, a turbina à vapor gera trabalho mecânico, $W_{t} = h_{2} - h_{3}$. \n",
    "\n",
    "<p style='text-align: justify'>Finalmente, o fluido que saí da turbina, que está parcialmente condensado, é resfriado, logo após, à pressão constante, em um \"condensador\", que, na verdade, é uma rede de tubos que estão em bom contato termico com um reservatório à baixa temperatura. O calor resultante desse processo é $Q_{R} = h_{3} - h_{4}$. Vsito o cenário dado, vemos que a linha referente a esse processo no gráfico, é horizontal também e no sentido para a esquerda, posto a pressão contante, condensação e diminuição do volume.</p>\n",
    "\n",
    "<p style='text-align: justify'>Depois disso, fechando o ciclo, temos que, sendo fornecido um trabalho $W_{P} = h_{1} - h_{4}$ à bomba, a água condensada vinda do condensador é bombeada de volta para o boiler. Assim, o processo de bombeamento que ocorre é uma compressão isentrópica na bomba.\n",
    "\n",
    "<p style='text-align: justify'>Como, na maioria das vezes, bem como nesse nosso caso, a subtância sendo trabalhada no ciclo não é um gás ideal, ela condensa em líquido durante o ciclo. Dessa forma, infelizmente, o comportamento é complicado, então não há como calcular a eficiência do ciclo direto do diagrama PV. Entretanto, nesse caso, se sabemos a pressão em qualquer lugar e a temperatura no ponto 3, podemos olhar para os dados precisos para computar a eficiência nas chamadas \"tabelas de vapor\".</p>\n",
    "\n",
    "<p style='text-align: justify'>Além dessa análise de PxV, podemos visualizar um gráfico de temperatura por entropia também:</p>\n",
    "\n",
    "\n",
    "<p style='text-align: justify'>Agora sim podemos proseguir para a eficiência.</p>"
   ]
  },
  {
   "cell_type": "markdown",
   "id": "3a2b0e2a-2a1f-49c8-9fc7-31b167f28322",
   "metadata": {},
   "source": [
    "### Eficiência "
   ]
  },
  {
   "cell_type": "markdown",
   "id": "228da9c1-43eb-41d7-827a-5f07e39238e4",
   "metadata": {},
   "source": [
    "<p style='text-align: justify'>Pensando na eficiência co ciclo, vamos retormar alguns conceitos de motor térmico.</p>\n",
    "\n",
    "> O benefício de operá-lo é o trabalho que ele produz, o qual chamamos de $W$. \n",
    "\n",
    ">Além disso, o calor que é absorvido como custo da operação chamamos de $Q_{h}$. \n",
    "\n",
    "<p style='text-align: justify'>Assim, a eficiência de um motor térmico pode ser definida como a taxa benefício/taxa de custo.</p>\n",
    "\n",
    "<p style='text-align: center'> $$e = \\frac{benefício}{custo} = \\frac{W}{Q_{h}}$$</p>\n",
    "\n",
    "<p style='text-align: justify'>Nos voltando às leis da termodinâmica, temos que a primeira nos diz que a energia é conservada. Nesse sentido, sabendo que o estado do motor não deve mudar ao final do ciclo (o motor opera em ciclos e cada ciclo de operação retorna ao seu estado original), podemoz dizer que a energia que ele absorve precisa ser igual a energia que ele exterioriza. Assim:</p>\n",
    "\n",
    "<p style='text-align: center'> $$Q_{h} = Q_{c} + W$$</p>\n",
    "\n",
    "<p style='text-align: justify'>Substituindo W na expressão de eficiência:</p>\n",
    "\n",
    "<p style='text-align: center'> $$e = \\frac{Q_{h} - Q_{c}}{Q_{h}} = 1 - \\frac{Q_{c}}{Q_{h}}$$</p>\n",
    "\n",
    "<p style='text-align: justify'>Com isso, chegamos a conclusão que a eficiência não pode ser maior que 1, apenas menor ou igualar, quando $Q_{c}=0$. Desse modo, ela vai nos retornar um valor que equivale a uma porcentagem.</p>\n",
    "\n",
    "<p style='text-align: justify'>Recorrendo à segunda lei, que postula que a entropia total do motor adicionada à da sua volta pode aumentar, mas nunca diminuir, temos que a entropia que sai do ciclo necessita ser, ao menos, o tanto quanto a entropia que é absorvida. Nos dando que:</p>\n",
    "\n",
    ">Entropia extraída do reservatório quente: $\\frac{Q_{h}}{T_{h}}$\n",
    ">Entropia expelida para o reservatório frio: $\\frac{Q_{c}}{T_{c}}$\n",
    "\n",
    "<p style='text-align: center'> $$\\frac{Q_{c}}{T_{c}} => \\frac{Q_{h}}{T_{h}}$$ ou $$\\frac{Q_{c}}{Q_{h}} => \\frac{T_{c}}{T_{h}}$$</p>\n",
    "\n",
    "<p style='text-align: justify'>Estabelecida essa última relação, podemos associá-la à eficiência, tendo que:</p>\n",
    "\n",
    "<p style='text-align: center'> $$e <= 1 - \\frac{T_{c}}{T_{h}}$$</p>\n",
    "\n",
    "<p style='text-align: justify'>Agora, com essa relação podemos pensar na questão: Dados valores de $T_{c}$ e $T_{h}$, qual a eficiência máxima conseguimos obter? E, nesse sentido, quanto menor essa razão, maior a eficiência que o motor pode chegar. Assim, quando o reservatório frio é muito frio ou o quente é muito quente.</p>"
   ]
  },
  {
   "cell_type": "markdown",
   "id": "5344ade6-210d-47f3-a75c-fcfb7ffacd87",
   "metadata": {},
   "source": [
    "----------------------"
   ]
  },
  {
   "cell_type": "markdown",
   "id": "544ac632-a2cd-4fc3-9415-aff57e590d8b",
   "metadata": {},
   "source": [
    "<p style='text-align: justify'>Aplicando todos esse conceitos que vimos até agora...</p>\n",
    "<p style='text-align: justify'>A entalpia de uma substância é dada por $$H = U + PV$$, ou seja, sua  energia mais o trabalho preciso para fazê-lo ocupar um espaço em um ambiente de pressão constante. Portanto, a mudança de entalpia equivale ao calor absorvido em consições de pressão constante, assumindo que nenhum outro trabalho é feito.\n",
    "</p>"
   ]
  },
  {
   "cell_type": "markdown",
   "id": "9c89f69d-543a-4949-81ea-7da76532e030",
   "metadata": {},
   "source": [
    "### Considerações finais do experimento\n",
    "\n",
    "<p style='text-align: justify'> Por fim, podemos utilizar os resultados obtidos do ciclo de carnot como um padrão de referência para comparar a eficiência do ciclo de Rankine. O ciclo de carnot representa um resultado máximo e idealizado e improvável de ocorrer de acordo com a 2° lei da termodinâmica, sendo assim, podemos usar o seu valor para ver o quão boa está a operação de outros ciclos a depender da distância de seu valor de eficiência em relação a ele.</p>\n",
    "\n",
    "<p style='text-align: justify'> AINDA VOU TERMINAR DE ESCREVER (PARTE QUE TA NO RASCUNHO)</p>\n",
    "\n",
    "<p style='text-align: justify'>Ademais, vale acrescentar que o funcionamento do ciclo de Rankine pode ser afetada por fatores como a temperatura de entrada e saída do fluido de trabalho, a pressão de operação e as perdas de calor ao longo do ciclo. Dessa forma, para melhorá-la é necessário promover otimizações a usina com o aumento da temperatura e pressão do fluido de trabalho ou com a incorporação de tecnologias de recuperação. No entanto, relembrando, essa eficiência nunca atingirá a do ciclo de carnot por respeitar as leis termodinâmicas.</p>"
   ]
  }
 ],
 "metadata": {
  "kernelspec": {
   "display_name": "ilumpy",
   "language": "python",
   "name": "ilumpy"
  },
  "language_info": {
   "codemirror_mode": {
    "name": "ipython",
    "version": 3
   },
   "file_extension": ".py",
   "mimetype": "text/x-python",
   "name": "python",
   "nbconvert_exporter": "python",
   "pygments_lexer": "ipython3",
   "version": "3.9.7"
  }
 },
 "nbformat": 4,
 "nbformat_minor": 5
}
