{
 "cells": [
  {
   "cell_type": "markdown",
   "id": "00900bc4-db92-41d1-b9e2-b600e319d4ca",
   "metadata": {},
   "source": [
    "<center><img src=\"logo_ilum_2023.png\" style=\"width:1000px;height:200px\"/></center>"
   ]
  },
  {
   "cell_type": "markdown",
   "id": "5114baeb-4c3b-48fb-bf86-368b617f0500",
   "metadata": {},
   "source": [
    "## 🔄 Desafio 4"
   ]
  },
  {
   "cell_type": "markdown",
   "id": "cf54f72c-c4d2-4d2f-a72e-af55d09e47fd",
   "metadata": {},
   "source": [
    "--------"
   ]
  },
  {
   "cell_type": "markdown",
   "id": "63eb233d-5384-4893-b253-1591ab293e10",
   "metadata": {},
   "source": [
    "**Objetivo**: A operação do ciclo Rankine a partir da energia da combustão calculada na atividade 3."
   ]
  },
  {
   "cell_type": "markdown",
   "id": "cc6d2253-aff6-417d-b53b-f3ed277a8c72",
   "metadata": {},
   "source": [
    "--------"
   ]
  },
  {
   "cell_type": "markdown",
   "id": "49a55a5d-9ebf-41aa-936b-9af5ea8ccea1",
   "metadata": {},
   "source": [
    "_Aspectos importantes a serem considerados:_\n",
    "\n",
    ">Será considerado um ciclo de Rankine ideal.\n",
    "\n",
    ">Deverá ser definido como funciona o ciclo de Rankine.\n",
    "\n",
    ">Deve ser usado valores de entalpia para água-vapor de água tabelados para cálculo da eficiência.\n",
    "\n",
    ">Deve-se considerar se o ciclo fosse de Carnot. Nesse caso, qual seria a eficiência teórica?"
   ]
  },
  {
   "cell_type": "markdown",
   "id": "37feaf7a-67c2-4c68-a11d-68581f2f57ad",
   "metadata": {},
   "source": [
    "--------"
   ]
  },
  {
   "cell_type": "code",
   "execution_count": null,
   "id": "3399b251-6fc1-40b7-9a32-bf2627de509c",
   "metadata": {},
   "outputs": [],
   "source": []
  }
 ],
 "metadata": {
  "kernelspec": {
   "display_name": "ilumpy",
   "language": "python",
   "name": "ilumpy"
  },
  "language_info": {
   "codemirror_mode": {
    "name": "ipython",
    "version": 3
   },
   "file_extension": ".py",
   "mimetype": "text/x-python",
   "name": "python",
   "nbconvert_exporter": "python",
   "pygments_lexer": "ipython3",
   "version": "3.9.7"
  }
 },
 "nbformat": 4,
 "nbformat_minor": 5
}
